{
 "cells": [
  {
   "cell_type": "markdown",
   "id": "f319d661-583d-4bef-b2a4-adf4fc56276b",
   "metadata": {},
   "source": [
    "# Inverse Correlation Project"
   ]
  },
  {
   "cell_type": "markdown",
   "id": "1f6f34bc-338b-4ff4-8d51-58bf736a21e0",
   "metadata": {},
   "source": [
    "### Initial imports"
   ]
  },
  {
   "cell_type": "code",
   "execution_count": 96,
   "id": "69ce8f06-013c-4460-9baa-9613f2a5ffcc",
   "metadata": {},
   "outputs": [],
   "source": [
    "import os\n",
    "import requests\n",
    "import pandas as pd\n",
    "from dotenv import load_dotenv\n",
    "import alpaca_trade_api as tradeapi\n",
    "from pathlib import Path\n",
    "import seaborn as sns\n",
    "import hvplot.pandas\n",
    "\n",
    "%matplotlib inline"
   ]
  },
  {
   "cell_type": "markdown",
   "id": "a8452ed9-daed-4ede-bc54-96b6dbbd40f8",
   "metadata": {},
   "source": [
    "### Loading .env environment variables"
   ]
  },
  {
   "cell_type": "code",
   "execution_count": 97,
   "id": "f70a7872-a8e7-4c42-86b6-be878f054378",
   "metadata": {},
   "outputs": [
    {
     "data": {
      "text/plain": [
       "True"
      ]
     },
     "execution_count": 97,
     "metadata": {},
     "output_type": "execute_result"
    }
   ],
   "source": [
    "load_dotenv()"
   ]
  },
  {
   "cell_type": "markdown",
   "id": "86eda8f3-df19-409a-86fe-06edf00a55bf",
   "metadata": {},
   "source": [
    "### Setting Alpaca API key and secret"
   ]
  },
  {
   "cell_type": "code",
   "execution_count": 98,
   "id": "452f31b4-5dec-4bfa-a7b8-210ffb7b509a",
   "metadata": {},
   "outputs": [],
   "source": [
    "alpaca_api_key = os.getenv(\"ALPACA_API_KEY\")\n",
    "alpaca_secret_key = os.getenv(\"ALPACA_SECRET_KEY\")"
   ]
  },
  {
   "cell_type": "markdown",
   "id": "77ac9dab-a0b0-47f7-b77d-c8e3c8085fe5",
   "metadata": {},
   "source": [
    "### Verifying that Alpaca key and secret were correctly loaded"
   ]
  },
  {
   "cell_type": "code",
   "execution_count": 99,
   "id": "2281bf36-e7f6-4bdc-91b2-01f9e3350736",
   "metadata": {},
   "outputs": [
    {
     "name": "stdout",
     "output_type": "stream",
     "text": [
      "Alpaca Key type: <class 'str'>\n",
      "Alpaca Secret Key type: <class 'str'>\n"
     ]
    }
   ],
   "source": [
    "print(f\"Alpaca Key type: {type(alpaca_api_key)}\")\n",
    "print(f\"Alpaca Secret Key type: {type(alpaca_secret_key)}\")"
   ]
  },
  {
   "cell_type": "markdown",
   "id": "a37a72cd-8025-4971-8f8b-2964701a46bf",
   "metadata": {},
   "source": [
    "### Creating the Alpaca API object"
   ]
  },
  {
   "cell_type": "code",
   "execution_count": 100,
   "id": "243f0adc-3610-40d0-b39c-e1234fef5c99",
   "metadata": {},
   "outputs": [],
   "source": [
    "alpaca = tradeapi.REST(\n",
    "    alpaca_api_key,\n",
    "    alpaca_secret_key,\n",
    "    api_version=\"v2\")"
   ]
  },
  {
   "cell_type": "markdown",
   "id": "54a986b1-c530-417c-b845-26a6a105db0a",
   "metadata": {},
   "source": [
    "### Formatting current date as ISO format"
   ]
  },
  {
   "cell_type": "code",
   "execution_count": 101,
   "id": "660c2cae-8db3-40e3-ac26-167b3e3464f9",
   "metadata": {},
   "outputs": [],
   "source": [
    "start = pd.Timestamp(\"2015-12-01\", tz=\"America/New_York\").isoformat()\n",
    "end = pd.Timestamp(\"2022-09-20\", tz=\"America/New_York\").isoformat()"
   ]
  },
  {
   "cell_type": "markdown",
   "id": "3f6318c1-6b2f-40c3-87bb-794b58c664cd",
   "metadata": {},
   "source": [
    "### Setting the tickers"
   ]
  },
  {
   "cell_type": "code",
   "execution_count": 102,
   "id": "ed469f9b-2264-4805-a345-a35be074a9b9",
   "metadata": {},
   "outputs": [],
   "source": [
    "tickers = ['SPGI',\n",
    "'MCO',\n",
    "'CPRT',\n",
    "'EFX',\n",
    "'FLT',\n",
    "'CRL',\n",
    "'OMC',\n",
    "'IPG',\n",
    "'RHI',\n",
    "'NLSN',\n",
    "'VZ',\n",
    "'T',\n",
    "'TMUS',\n",
    "'LUMN',\n",
    "'TSLA',\n",
    "'GM',\n",
    "'F',\n",
    "'ATVI',\n",
    "'EA',\n",
    "'DHI',\n",
    "'SWK',\n",
    "'TTWO',\n",
    "'NVR',\n",
    "'LKQ',\n",
    "'PHM',\n",
    "'WHR',\n",
    "'HAS',\n",
    "'MHK',\n",
    "'SNA',\n",
    "'PG',\n",
    "'NKE',\n",
    "'KO',\n",
    "'PEP',\n",
    "'PM',\n",
    "'EL',\n",
    "'MDLZ',\n",
    "'MO',\n",
    "'CL',\n",
    "'MNST',\n",
    "'KMB',\n",
    "'STZ',\n",
    "'KHC',\n",
    "'GIS',\n",
    "'HSY',\n",
    "'IFF',\n",
    "'BF.B',\n",
    "'TSN',\n",
    "'VFC',\n",
    "'HRL',\n",
    "'MKC',\n",
    "'CHD',\n",
    "'K',\n",
    "'CLX',\n",
    "'CAG',\n",
    "'SJM',\n",
    "'CPB',\n",
    "'TAP',\n",
    "'LW',\n",
    "'UAA',\n",
    "'UA',\n",
    "'PVH',\n",
    "'DIS',\n",
    "'CMCSA',\n",
    "'MCD',\n",
    "'SBUX',\n",
    "'CHTR',\n",
    "'BKNG',\n",
    "'MAR',\n",
    "'CMG',\n",
    "'CTAS',\n",
    "'HLT',\n",
    "'YUM',\n",
    "'LVS',\n",
    "'EXPE',\n",
    "'LYV',\n",
    "'MGM',\n",
    "'VIAC',\n",
    "'FOX',\n",
    "'FOXA',\n",
    "'RCL',\n",
    "'DPZ',\n",
    "'CZR',\n",
    "'DRI',\n",
    "'DISH',\n",
    "'ROL',\n",
    "'NWSA',\n",
    "'NWS',\n",
    "'DISCA',\n",
    "'DISCK',\n",
    "'WYNN',\n",
    "'NCLH',\n",
    "'PENN',\n",
    "'SYY',\n",
    "'MCK',\n",
    "'FAST',\n",
    "'ABC',\n",
    "'GWW',\n",
    "'POOL',\n",
    "'GPC',\n",
    "'CAH',\n",
    "'HSIC',\n",
    "'AAPL',\n",
    "'NVDA',\n",
    "'AVGO',\n",
    "'INTC',\n",
    "'QCOM',\n",
    "'AMD',\n",
    "'TXN',\n",
    "'RTX',\n",
    "'BA',\n",
    "'MU',\n",
    "'LRCX',\n",
    "'LMT',\n",
    "'ADI',\n",
    "'KLAC',\n",
    "'NXPI',\n",
    "'NOC',\n",
    "'GD',\n",
    "'XLNX',\n",
    "'FTNT',\n",
    "'TEL',\n",
    "'APH',\n",
    "'MCHP',\n",
    "'MSI',\n",
    "'ANET',\n",
    "'LHX',\n",
    "'HPQ',\n",
    "'KEYS',\n",
    "'TDG',\n",
    "'GLW',\n",
    "'ZBRA',\n",
    "'TER',\n",
    "'SWKS',\n",
    "'FTV',\n",
    "'GRMN',\n",
    "'STX',\n",
    "'ENPH',\n",
    "'MPWR',\n",
    "'TRMB',\n",
    "'HPE',\n",
    "'TDY',\n",
    "'WDC',\n",
    "'NTAP',\n",
    "'QRVO',\n",
    "'TXT',\n",
    "'FFIV',\n",
    "'HWM',\n",
    "'IPGP',\n",
    "'HII',\n",
    "'XOM',\n",
    "'CVX',\n",
    "'COP',\n",
    "'EOG',\n",
    "'PXD',\n",
    "'MPC',\n",
    "'PSX',\n",
    "'VLO',\n",
    "'DVN',\n",
    "'OXY',\n",
    "'HES',\n",
    "'FANG',\n",
    "'CTRA',\n",
    "'MRO',\n",
    "'APA',\n",
    "'BRK.B',\n",
    "'JPM',\n",
    "'V',\n",
    "'BAC',\n",
    "'MA',\n",
    "'WFC',\n",
    "'MS',\n",
    "'SCHW',\n",
    "'BLK',\n",
    "'AMT',\n",
    "'GS',\n",
    "'AXP',\n",
    "'PLD',\n",
    "'C',\n",
    "'CCI',\n",
    "'PNC',\n",
    "'USB',\n",
    "'MMC',\n",
    "'CB',\n",
    "'CME',\n",
    "'EQIX',\n",
    "'ICE',\n",
    "'PSA',\n",
    "'AON',\n",
    "'COF',\n",
    "'PGR',\n",
    "'MET',\n",
    "'SPG',\n",
    "'DLR',\n",
    "'BK',\n",
    "'AIG',\n",
    "'TROW',\n",
    "'SBAC',\n",
    "'PRU',\n",
    "'O',\n",
    "'SIVB',\n",
    "'AFL',\n",
    "'TRV',\n",
    "'WELL',\n",
    "'CBRE',\n",
    "'AVB',\n",
    "'FRC',\n",
    "'DFS',\n",
    "'AJG',\n",
    "'ARE',\n",
    "'STT',\n",
    "'AMP',\n",
    "'EQR',\n",
    "'ALL',\n",
    "'NDAQ',\n",
    "'WY',\n",
    "'FITB',\n",
    "'EXR',\n",
    "'WLTW',\n",
    "'MAA',\n",
    "'SYF',\n",
    "'DRE',\n",
    "'NTRS',\n",
    "'URI',\n",
    "'HIG',\n",
    "'ESS',\n",
    "'RF',\n",
    "'RJF',\n",
    "'VTR',\n",
    "'CFG',\n",
    "'MTB',\n",
    "'PEAK',\n",
    "'BRO',\n",
    "'PFG',\n",
    "'SBNY',\n",
    "'UDR',\n",
    "'CINF',\n",
    "'BXP',\n",
    "'BEN',\n",
    "'KIM',\n",
    "'IRM',\n",
    "'MKTX',\n",
    "'L',\n",
    "'WRB',\n",
    "'CBOE',\n",
    "'REG',\n",
    "'LNC',\n",
    "'HST',\n",
    "'CMA',\n",
    "'IVZ',\n",
    "'RE',\n",
    "'FRT',\n",
    "'ZION',\n",
    "'GL',\n",
    "'AIZ',\n",
    "'VNO',\n",
    "'PBCT',\n",
    "'UNH',\n",
    "'ANTM',\n",
    "'HCA',\n",
    "'CI',\n",
    "'HUM',\n",
    "'IQV',\n",
    "'CNC',\n",
    "'LH',\n",
    "'DGX',\n",
    "'DVA',\n",
    "'UHS',\n",
    "'JNJ',\n",
    "'PFE',\n",
    "'LLY',\n",
    "'TMO',\n",
    "'ABT',\n",
    "'ABBV',\n",
    "'DHR',\n",
    "'MRK',\n",
    "'MDT',\n",
    "'BMY',\n",
    "'ISRG',\n",
    "'AMGN',\n",
    "'ZTS',\n",
    "'SYK',\n",
    "'MRNA',\n",
    "'GILD',\n",
    "'EW',\n",
    "'BDX',\n",
    "'REGN',\n",
    "'BSX',\n",
    "'ILMN',\n",
    "'VRTX',\n",
    "'IDXX',\n",
    "'ALGN',\n",
    "'DXCM',\n",
    "'A',\n",
    "'BAX',\n",
    "'MTD',\n",
    "'RMD',\n",
    "'BIIB',\n",
    "'WST',\n",
    "'ZBH',\n",
    "'STE',\n",
    "'PKI',\n",
    "'WAT',\n",
    "'BIO',\n",
    "'CTLT',\n",
    "'COO',\n",
    "'TECH',\n",
    "'HOLX',\n",
    "'VTRS',\n",
    "'ABMD',\n",
    "'INCY',\n",
    "'TFX',\n",
    "'XRAY',\n",
    "'OGN',\n",
    "'WM',\n",
    "'SLB',\n",
    "'RSG',\n",
    "'KMI',\n",
    "'WMB',\n",
    "'OKE',\n",
    "'BKR',\n",
    "'HAL',\n",
    "'J',\n",
    "'PWR',\n",
    "'FCX',\n",
    "'NEM',\n",
    "'NUE',\n",
    "'VMC',\n",
    "'MLM',\n",
    "'LIN',\n",
    "'SHW',\n",
    "'ECL',\n",
    "'APD',\n",
    "'DOW',\n",
    "'DD',\n",
    "'PPG',\n",
    "'ADM',\n",
    "'CTVA',\n",
    "'LYB',\n",
    "'BLL',\n",
    "'ALB',\n",
    "'CE',\n",
    "'AMCR',\n",
    "'IP',\n",
    "'AVY',\n",
    "'EMN',\n",
    "'MOS',\n",
    "'CF',\n",
    "'FMC',\n",
    "'PKG',\n",
    "'WRK',\n",
    "'SEE',\n",
    "'HON',\n",
    "'AMAT',\n",
    "'CAT',\n",
    "'DE',\n",
    "'GE',\n",
    "'MMM',\n",
    "'ITW',\n",
    "'ETN',\n",
    "'JCI',\n",
    "'EMR',\n",
    "'TT',\n",
    "'CARR',\n",
    "'APTV',\n",
    "'PH',\n",
    "'ROK',\n",
    "'OTIS',\n",
    "'AME',\n",
    "'CMI',\n",
    "'PCAR',\n",
    "'DOV',\n",
    "'IR',\n",
    "'GNRC',\n",
    "'XYL',\n",
    "'IEX',\n",
    "'WAB',\n",
    "'MAS',\n",
    "'SEDG',\n",
    "'FBHS',\n",
    "'AOS',\n",
    "'PNR',\n",
    "'ALLE',\n",
    "'BWA',\n",
    "'NWL',\n",
    "'AMZN',\n",
    "'HD',\n",
    "'WMT',\n",
    "'COST',\n",
    "'LOW',\n",
    "'CVS',\n",
    "'TGT',\n",
    "'TJX',\n",
    "'DG',\n",
    "'ORLY',\n",
    "'WBA',\n",
    "'AZO',\n",
    "'EBAY',\n",
    "'ROST',\n",
    "'KR',\n",
    "'DLTR',\n",
    "'TSCO',\n",
    "'ETSY',\n",
    "'BBY',\n",
    "'ULTA',\n",
    "'KMX',\n",
    "'BBWI',\n",
    "'AAP',\n",
    "'TPR',\n",
    "'RL',\n",
    "'GPS',\n",
    "'MSFT',\n",
    "'GOOG',\n",
    "'GOOGL',\n",
    "'FB',\n",
    "'ACN',\n",
    "'CSCO',\n",
    "'NFLX',\n",
    "'CRM',\n",
    "'ORCL',\n",
    "'PYPL',\n",
    "'INTU',\n",
    "'NOW',\n",
    "'IBM',\n",
    "'ADP',\n",
    "'FISV',\n",
    "'FIS',\n",
    "'ADSK',\n",
    "'SNPS',\n",
    "'INFO',\n",
    "'CDNS',\n",
    "'ROP',\n",
    "'MSCI',\n",
    "'PAYX',\n",
    "'CTSH',\n",
    "'GPN',\n",
    "'MTCH',\n",
    "'EPAM',\n",
    "'VRSK',\n",
    "'ANSS',\n",
    "'TWTR',\n",
    "'VRSN',\n",
    "'CDW',\n",
    "'CERN',\n",
    "'IT',\n",
    "'PAYC',\n",
    "'TYL',\n",
    "'BR',\n",
    "'AKAM',\n",
    "'FDS',\n",
    "'CDAY',\n",
    "'NLOK',\n",
    "'PTC',\n",
    "'JKHY',\n",
    "'LDOS',\n",
    "'CTXS',\n",
    "'JNPR',\n",
    "'DXC',\n",
    "'UPS',\n",
    "'UNP',\n",
    "'CSX',\n",
    "'FDX',\n",
    "'ODFL',\n",
    "'LUV',\n",
    "'DAL',\n",
    "'EXPD',\n",
    "'JBHT',\n",
    "'UAL',\n",
    "'CHRW',\n",
    "'AAL',\n",
    "'ALK',\n",
    "'NEE',\n",
    "'DUK',\n",
    "'SO',\n",
    "'D',\n",
    "'EXC',\n",
    "'AEP',\n",
    "'SRE',\n",
    "'XEL',\n",
    "'PEG',\n",
    "'AWK',\n",
    "'ES',\n",
    "'WEC',\n",
    "'ED',\n",
    "'EIX',\n",
    "'DTE',\n",
    "'AEE',\n",
    "'PPL',\n",
    "'FE',\n",
    "'ETR',\n",
    "'CMS',\n",
    "'CNP',\n",
    "'AES',\n",
    "'EVRG',\n",
    "'LNT',\n",
    "'ATO',\n",
    "'NI',\n",
    "'NRG',\n",
    "'PNW']"
   ]
  },
  {
   "cell_type": "code",
   "execution_count": 103,
   "id": "effd85c3-6eb5-407c-a7f6-8f262d37e98b",
   "metadata": {},
   "outputs": [],
   "source": [
    "# Set timeframe to one day (\"1Day\") for the Alpaca API\n",
    "timeframe = \"1Day\""
   ]
  },
  {
   "cell_type": "markdown",
   "id": "9f0926b8-166c-43c1-b947-58ad8bb17391",
   "metadata": {},
   "source": [
    "# Getting current closing prices SP 500 tickers\n",
    "The piece of the code down below was used only to retrieve data from Alpacas.\n",
    "It will be run just once to retrieve the API data and will be commented out with # so we dont burn cycles by running the code every time we refresh the kernels.\n",
    "\n"
   ]
  },
  {
   "cell_type": "code",
   "execution_count": 104,
   "id": "cad026bc-a43b-4e70-a83d-6db4e3091df4",
   "metadata": {},
   "outputs": [],
   "source": [
    "#portfolio_alpacas = alpaca.get_bars(\n",
    "#    tickers,\n",
    "#    timeframe,\n",
    "#    start = start,\n",
    "#    end = end\n",
    "#).df\n",
    "\n",
    "# Display sample data\n",
    "#portfolio_alpacas"
   ]
  },
  {
   "cell_type": "markdown",
   "id": "85971811-cf9b-45cd-88fb-4592c3199a4f",
   "metadata": {},
   "source": [
    "# Exporting data to csv\n",
    "\n",
    "Here we are exporting the data from to a csv and that will be used to create the dataframe.\n",
    "We've commented it out to avoid the duplicated files in the directories\n"
   ]
  },
  {
   "cell_type": "code",
   "execution_count": 105,
   "id": "eb593f1e-f2d7-4133-adca-26f2dbaf5c7d",
   "metadata": {},
   "outputs": [],
   "source": [
    "#portfolio_alpacas.to_csv('sp500_alpacas_2015_to_2022.csv')\n",
    "\n",
    "#df.to_csv('file_name.csv')"
   ]
  },
  {
   "cell_type": "code",
   "execution_count": 106,
   "id": "a60d623e-8636-4c8e-991a-513029d4144e",
   "metadata": {},
   "outputs": [],
   "source": [
    "#Convert data pull to CSV\n",
    "sp500_data = Path('sp500_alpacas_2015_to_2022.csv')"
   ]
  },
  {
   "cell_type": "code",
   "execution_count": 107,
   "id": "f462c2db-76de-44ad-a0f0-f2631d5d3488",
   "metadata": {},
   "outputs": [
    {
     "data": {
      "text/html": [
       "<div>\n",
       "<style scoped>\n",
       "    .dataframe tbody tr th:only-of-type {\n",
       "        vertical-align: middle;\n",
       "    }\n",
       "\n",
       "    .dataframe tbody tr th {\n",
       "        vertical-align: top;\n",
       "    }\n",
       "\n",
       "    .dataframe thead th {\n",
       "        text-align: right;\n",
       "    }\n",
       "</style>\n",
       "<table border=\"1\" class=\"dataframe\">\n",
       "  <thead>\n",
       "    <tr style=\"text-align: right;\">\n",
       "      <th></th>\n",
       "      <th>open</th>\n",
       "      <th>high</th>\n",
       "      <th>low</th>\n",
       "      <th>close</th>\n",
       "      <th>volume</th>\n",
       "      <th>trade_count</th>\n",
       "      <th>vwap</th>\n",
       "      <th>symbol</th>\n",
       "    </tr>\n",
       "    <tr>\n",
       "      <th>timestamp</th>\n",
       "      <th></th>\n",
       "      <th></th>\n",
       "      <th></th>\n",
       "      <th></th>\n",
       "      <th></th>\n",
       "      <th></th>\n",
       "      <th></th>\n",
       "      <th></th>\n",
       "    </tr>\n",
       "  </thead>\n",
       "  <tbody>\n",
       "    <tr>\n",
       "      <th>2015-12-01 05:00:00+00:00</th>\n",
       "      <td>41.47</td>\n",
       "      <td>43.30</td>\n",
       "      <td>41.30</td>\n",
       "      <td>43.26</td>\n",
       "      <td>8912859</td>\n",
       "      <td>50657</td>\n",
       "      <td>42.668365</td>\n",
       "      <td>AAL</td>\n",
       "    </tr>\n",
       "    <tr>\n",
       "      <th>2015-12-02 05:00:00+00:00</th>\n",
       "      <td>44.00</td>\n",
       "      <td>44.53</td>\n",
       "      <td>43.53</td>\n",
       "      <td>43.82</td>\n",
       "      <td>8010351</td>\n",
       "      <td>52209</td>\n",
       "      <td>44.032147</td>\n",
       "      <td>AAL</td>\n",
       "    </tr>\n",
       "    <tr>\n",
       "      <th>2015-12-03 05:00:00+00:00</th>\n",
       "      <td>43.65</td>\n",
       "      <td>44.60</td>\n",
       "      <td>42.92</td>\n",
       "      <td>43.27</td>\n",
       "      <td>7234737</td>\n",
       "      <td>47951</td>\n",
       "      <td>43.556866</td>\n",
       "      <td>AAL</td>\n",
       "    </tr>\n",
       "    <tr>\n",
       "      <th>2015-12-04 05:00:00+00:00</th>\n",
       "      <td>43.82</td>\n",
       "      <td>44.99</td>\n",
       "      <td>43.82</td>\n",
       "      <td>44.97</td>\n",
       "      <td>9460935</td>\n",
       "      <td>60427</td>\n",
       "      <td>44.749545</td>\n",
       "      <td>AAL</td>\n",
       "    </tr>\n",
       "    <tr>\n",
       "      <th>2015-12-07 05:00:00+00:00</th>\n",
       "      <td>45.35</td>\n",
       "      <td>46.49</td>\n",
       "      <td>45.22</td>\n",
       "      <td>45.78</td>\n",
       "      <td>8911719</td>\n",
       "      <td>54034</td>\n",
       "      <td>45.783429</td>\n",
       "      <td>AAL</td>\n",
       "    </tr>\n",
       "  </tbody>\n",
       "</table>\n",
       "</div>"
      ],
      "text/plain": [
       "                            open   high    low  close   volume  trade_count  \\\n",
       "timestamp                                                                     \n",
       "2015-12-01 05:00:00+00:00  41.47  43.30  41.30  43.26  8912859        50657   \n",
       "2015-12-02 05:00:00+00:00  44.00  44.53  43.53  43.82  8010351        52209   \n",
       "2015-12-03 05:00:00+00:00  43.65  44.60  42.92  43.27  7234737        47951   \n",
       "2015-12-04 05:00:00+00:00  43.82  44.99  43.82  44.97  9460935        60427   \n",
       "2015-12-07 05:00:00+00:00  45.35  46.49  45.22  45.78  8911719        54034   \n",
       "\n",
       "                                vwap symbol  \n",
       "timestamp                                    \n",
       "2015-12-01 05:00:00+00:00  42.668365    AAL  \n",
       "2015-12-02 05:00:00+00:00  44.032147    AAL  \n",
       "2015-12-03 05:00:00+00:00  43.556866    AAL  \n",
       "2015-12-04 05:00:00+00:00  44.749545    AAL  \n",
       "2015-12-07 05:00:00+00:00  45.783429    AAL  "
      ]
     },
     "execution_count": 107,
     "metadata": {},
     "output_type": "execute_result"
    }
   ],
   "source": [
    "sp500_df = pd.read_csv(sp500_data, index_col=\"timestamp\", infer_datetime_format=True, parse_dates=True)\n",
    "\n",
    "sp500_df.head()"
   ]
  },
  {
   "cell_type": "markdown",
   "id": "b1a165c4-ed62-4c96-b03e-7ccce1b94fb4",
   "metadata": {},
   "source": [
    "### For loop to iterate dataframe to our SP500_df\n",
    "\n",
    "It allowed us to create multiple datafraes for each ticker, and continue with our analysis\n",
    "We dropped unecessary columns and renamed Closed to Ticker"
   ]
  },
  {
   "cell_type": "code",
   "execution_count": 108,
   "id": "0ce3dd95-ce4f-4e52-83d6-d25da2cc62cf",
   "metadata": {},
   "outputs": [],
   "source": [
    "# Reorganize the DataFrame\n",
    "# Separate ticker data\n",
    "df=[]\n",
    "for ticker in tickers:\n",
    "    dfticker=sp500_df[sp500_df['symbol']==ticker]\n",
    "    dfticker=dfticker.drop(columns=['open','high','low','volume','trade_count','vwap','symbol'])\n",
    "    dfticker=dfticker.rename(columns={'close':str(ticker)})\n",
    "    df.append(dfticker)\n",
    "   \n"
   ]
  },
  {
   "cell_type": "markdown",
   "id": "29f3521d-e282-4d36-b6f9-74b7bc70d37b",
   "metadata": {},
   "source": [
    "### Concatenating"
   ]
  },
  {
   "cell_type": "code",
   "execution_count": 109,
   "id": "9334e4a1-ce5f-4417-a202-a308cb6e2eab",
   "metadata": {},
   "outputs": [],
   "source": [
    "sp500_df = pd.concat(df,axis=1)"
   ]
  },
  {
   "cell_type": "markdown",
   "id": "806985de-3a5c-4ac4-8ab0-77ea93cf4b41",
   "metadata": {},
   "source": [
    "### Displaying sample data"
   ]
  },
  {
   "cell_type": "code",
   "execution_count": 110,
   "id": "0e333fcb-98e3-4150-9899-49070a9292c1",
   "metadata": {},
   "outputs": [
    {
     "data": {
      "text/html": [
       "<div>\n",
       "<style scoped>\n",
       "    .dataframe tbody tr th:only-of-type {\n",
       "        vertical-align: middle;\n",
       "    }\n",
       "\n",
       "    .dataframe tbody tr th {\n",
       "        vertical-align: top;\n",
       "    }\n",
       "\n",
       "    .dataframe thead th {\n",
       "        text-align: right;\n",
       "    }\n",
       "</style>\n",
       "<table border=\"1\" class=\"dataframe\">\n",
       "  <thead>\n",
       "    <tr style=\"text-align: right;\">\n",
       "      <th></th>\n",
       "      <th>SPGI</th>\n",
       "      <th>MCO</th>\n",
       "      <th>CPRT</th>\n",
       "      <th>EFX</th>\n",
       "      <th>FLT</th>\n",
       "      <th>CRL</th>\n",
       "      <th>OMC</th>\n",
       "      <th>IPG</th>\n",
       "      <th>RHI</th>\n",
       "      <th>NLSN</th>\n",
       "      <th>...</th>\n",
       "      <th>ETR</th>\n",
       "      <th>CMS</th>\n",
       "      <th>CNP</th>\n",
       "      <th>AES</th>\n",
       "      <th>EVRG</th>\n",
       "      <th>LNT</th>\n",
       "      <th>ATO</th>\n",
       "      <th>NI</th>\n",
       "      <th>NRG</th>\n",
       "      <th>PNW</th>\n",
       "    </tr>\n",
       "    <tr>\n",
       "      <th>timestamp</th>\n",
       "      <th></th>\n",
       "      <th></th>\n",
       "      <th></th>\n",
       "      <th></th>\n",
       "      <th></th>\n",
       "      <th></th>\n",
       "      <th></th>\n",
       "      <th></th>\n",
       "      <th></th>\n",
       "      <th></th>\n",
       "      <th></th>\n",
       "      <th></th>\n",
       "      <th></th>\n",
       "      <th></th>\n",
       "      <th></th>\n",
       "      <th></th>\n",
       "      <th></th>\n",
       "      <th></th>\n",
       "      <th></th>\n",
       "      <th></th>\n",
       "      <th></th>\n",
       "    </tr>\n",
       "  </thead>\n",
       "  <tbody>\n",
       "    <tr>\n",
       "      <th>2015-12-01 05:00:00+00:00</th>\n",
       "      <td>97.47</td>\n",
       "      <td>103.44</td>\n",
       "      <td>39.36</td>\n",
       "      <td>112.52</td>\n",
       "      <td>153.49</td>\n",
       "      <td>78.21</td>\n",
       "      <td>75.00</td>\n",
       "      <td>23.34</td>\n",
       "      <td>52.03</td>\n",
       "      <td>47.46</td>\n",
       "      <td>...</td>\n",
       "      <td>67.39</td>\n",
       "      <td>35.39</td>\n",
       "      <td>16.99</td>\n",
       "      <td>9.98</td>\n",
       "      <td>NaN</td>\n",
       "      <td>61.40</td>\n",
       "      <td>62.59</td>\n",
       "      <td>19.39</td>\n",
       "      <td>12.35</td>\n",
       "      <td>63.52</td>\n",
       "    </tr>\n",
       "    <tr>\n",
       "      <th>2015-12-02 05:00:00+00:00</th>\n",
       "      <td>97.42</td>\n",
       "      <td>102.90</td>\n",
       "      <td>39.25</td>\n",
       "      <td>111.96</td>\n",
       "      <td>151.96</td>\n",
       "      <td>76.45</td>\n",
       "      <td>74.14</td>\n",
       "      <td>23.05</td>\n",
       "      <td>51.33</td>\n",
       "      <td>46.64</td>\n",
       "      <td>...</td>\n",
       "      <td>65.31</td>\n",
       "      <td>34.79</td>\n",
       "      <td>16.60</td>\n",
       "      <td>9.60</td>\n",
       "      <td>NaN</td>\n",
       "      <td>60.62</td>\n",
       "      <td>61.93</td>\n",
       "      <td>19.29</td>\n",
       "      <td>10.79</td>\n",
       "      <td>62.06</td>\n",
       "    </tr>\n",
       "    <tr>\n",
       "      <th>2015-12-03 05:00:00+00:00</th>\n",
       "      <td>95.75</td>\n",
       "      <td>101.36</td>\n",
       "      <td>38.84</td>\n",
       "      <td>109.35</td>\n",
       "      <td>148.95</td>\n",
       "      <td>74.91</td>\n",
       "      <td>74.10</td>\n",
       "      <td>22.95</td>\n",
       "      <td>49.72</td>\n",
       "      <td>45.67</td>\n",
       "      <td>...</td>\n",
       "      <td>64.36</td>\n",
       "      <td>34.24</td>\n",
       "      <td>16.45</td>\n",
       "      <td>9.52</td>\n",
       "      <td>NaN</td>\n",
       "      <td>59.39</td>\n",
       "      <td>61.14</td>\n",
       "      <td>18.93</td>\n",
       "      <td>10.97</td>\n",
       "      <td>61.11</td>\n",
       "    </tr>\n",
       "    <tr>\n",
       "      <th>2015-12-04 05:00:00+00:00</th>\n",
       "      <td>98.33</td>\n",
       "      <td>104.02</td>\n",
       "      <td>39.04</td>\n",
       "      <td>111.77</td>\n",
       "      <td>150.52</td>\n",
       "      <td>76.83</td>\n",
       "      <td>75.24</td>\n",
       "      <td>23.44</td>\n",
       "      <td>50.31</td>\n",
       "      <td>46.89</td>\n",
       "      <td>...</td>\n",
       "      <td>65.93</td>\n",
       "      <td>34.98</td>\n",
       "      <td>16.51</td>\n",
       "      <td>9.32</td>\n",
       "      <td>NaN</td>\n",
       "      <td>60.35</td>\n",
       "      <td>62.25</td>\n",
       "      <td>19.10</td>\n",
       "      <td>9.00</td>\n",
       "      <td>62.38</td>\n",
       "    </tr>\n",
       "    <tr>\n",
       "      <th>2015-12-07 05:00:00+00:00</th>\n",
       "      <td>97.02</td>\n",
       "      <td>104.05</td>\n",
       "      <td>38.99</td>\n",
       "      <td>111.43</td>\n",
       "      <td>147.51</td>\n",
       "      <td>75.56</td>\n",
       "      <td>76.53</td>\n",
       "      <td>23.52</td>\n",
       "      <td>50.11</td>\n",
       "      <td>46.68</td>\n",
       "      <td>...</td>\n",
       "      <td>66.69</td>\n",
       "      <td>35.50</td>\n",
       "      <td>16.41</td>\n",
       "      <td>9.21</td>\n",
       "      <td>NaN</td>\n",
       "      <td>60.33</td>\n",
       "      <td>61.98</td>\n",
       "      <td>19.14</td>\n",
       "      <td>9.55</td>\n",
       "      <td>63.13</td>\n",
       "    </tr>\n",
       "    <tr>\n",
       "      <th>...</th>\n",
       "      <td>...</td>\n",
       "      <td>...</td>\n",
       "      <td>...</td>\n",
       "      <td>...</td>\n",
       "      <td>...</td>\n",
       "      <td>...</td>\n",
       "      <td>...</td>\n",
       "      <td>...</td>\n",
       "      <td>...</td>\n",
       "      <td>...</td>\n",
       "      <td>...</td>\n",
       "      <td>...</td>\n",
       "      <td>...</td>\n",
       "      <td>...</td>\n",
       "      <td>...</td>\n",
       "      <td>...</td>\n",
       "      <td>...</td>\n",
       "      <td>...</td>\n",
       "      <td>...</td>\n",
       "      <td>...</td>\n",
       "      <td>...</td>\n",
       "    </tr>\n",
       "    <tr>\n",
       "      <th>2022-09-14 04:00:00+00:00</th>\n",
       "      <td>351.16</td>\n",
       "      <td>286.21</td>\n",
       "      <td>110.76</td>\n",
       "      <td>187.95</td>\n",
       "      <td>209.87</td>\n",
       "      <td>202.32</td>\n",
       "      <td>68.13</td>\n",
       "      <td>27.59</td>\n",
       "      <td>78.66</td>\n",
       "      <td>27.85</td>\n",
       "      <td>...</td>\n",
       "      <td>118.71</td>\n",
       "      <td>68.69</td>\n",
       "      <td>32.75</td>\n",
       "      <td>27.03</td>\n",
       "      <td>69.63</td>\n",
       "      <td>61.92</td>\n",
       "      <td>117.03</td>\n",
       "      <td>29.86</td>\n",
       "      <td>44.31</td>\n",
       "      <td>75.42</td>\n",
       "    </tr>\n",
       "    <tr>\n",
       "      <th>2022-09-15 04:00:00+00:00</th>\n",
       "      <td>347.06</td>\n",
       "      <td>282.31</td>\n",
       "      <td>110.61</td>\n",
       "      <td>186.72</td>\n",
       "      <td>205.42</td>\n",
       "      <td>203.61</td>\n",
       "      <td>68.95</td>\n",
       "      <td>27.82</td>\n",
       "      <td>78.30</td>\n",
       "      <td>27.80</td>\n",
       "      <td>...</td>\n",
       "      <td>115.30</td>\n",
       "      <td>66.64</td>\n",
       "      <td>32.18</td>\n",
       "      <td>26.69</td>\n",
       "      <td>67.56</td>\n",
       "      <td>60.23</td>\n",
       "      <td>114.12</td>\n",
       "      <td>28.96</td>\n",
       "      <td>44.86</td>\n",
       "      <td>73.82</td>\n",
       "    </tr>\n",
       "    <tr>\n",
       "      <th>2022-09-16 04:00:00+00:00</th>\n",
       "      <td>346.07</td>\n",
       "      <td>280.29</td>\n",
       "      <td>110.10</td>\n",
       "      <td>183.25</td>\n",
       "      <td>202.56</td>\n",
       "      <td>199.71</td>\n",
       "      <td>66.99</td>\n",
       "      <td>27.30</td>\n",
       "      <td>76.71</td>\n",
       "      <td>27.83</td>\n",
       "      <td>...</td>\n",
       "      <td>115.42</td>\n",
       "      <td>66.84</td>\n",
       "      <td>32.04</td>\n",
       "      <td>25.92</td>\n",
       "      <td>67.07</td>\n",
       "      <td>60.86</td>\n",
       "      <td>114.01</td>\n",
       "      <td>28.83</td>\n",
       "      <td>43.87</td>\n",
       "      <td>73.63</td>\n",
       "    </tr>\n",
       "    <tr>\n",
       "      <th>2022-09-19 04:00:00+00:00</th>\n",
       "      <td>344.69</td>\n",
       "      <td>278.51</td>\n",
       "      <td>111.09</td>\n",
       "      <td>182.61</td>\n",
       "      <td>203.00</td>\n",
       "      <td>199.85</td>\n",
       "      <td>68.00</td>\n",
       "      <td>27.69</td>\n",
       "      <td>78.30</td>\n",
       "      <td>27.82</td>\n",
       "      <td>...</td>\n",
       "      <td>115.88</td>\n",
       "      <td>67.20</td>\n",
       "      <td>32.46</td>\n",
       "      <td>26.60</td>\n",
       "      <td>67.66</td>\n",
       "      <td>61.89</td>\n",
       "      <td>115.22</td>\n",
       "      <td>29.29</td>\n",
       "      <td>44.02</td>\n",
       "      <td>74.69</td>\n",
       "    </tr>\n",
       "    <tr>\n",
       "      <th>2022-09-20 04:00:00+00:00</th>\n",
       "      <td>339.35</td>\n",
       "      <td>270.81</td>\n",
       "      <td>110.09</td>\n",
       "      <td>177.84</td>\n",
       "      <td>198.74</td>\n",
       "      <td>194.18</td>\n",
       "      <td>65.41</td>\n",
       "      <td>26.88</td>\n",
       "      <td>76.61</td>\n",
       "      <td>27.85</td>\n",
       "      <td>...</td>\n",
       "      <td>114.30</td>\n",
       "      <td>66.75</td>\n",
       "      <td>31.99</td>\n",
       "      <td>25.89</td>\n",
       "      <td>66.71</td>\n",
       "      <td>61.13</td>\n",
       "      <td>113.51</td>\n",
       "      <td>28.86</td>\n",
       "      <td>42.80</td>\n",
       "      <td>73.31</td>\n",
       "    </tr>\n",
       "  </tbody>\n",
       "</table>\n",
       "<p>1713 rows × 498 columns</p>\n",
       "</div>"
      ],
      "text/plain": [
       "                             SPGI     MCO    CPRT     EFX     FLT     CRL  \\\n",
       "timestamp                                                                   \n",
       "2015-12-01 05:00:00+00:00   97.47  103.44   39.36  112.52  153.49   78.21   \n",
       "2015-12-02 05:00:00+00:00   97.42  102.90   39.25  111.96  151.96   76.45   \n",
       "2015-12-03 05:00:00+00:00   95.75  101.36   38.84  109.35  148.95   74.91   \n",
       "2015-12-04 05:00:00+00:00   98.33  104.02   39.04  111.77  150.52   76.83   \n",
       "2015-12-07 05:00:00+00:00   97.02  104.05   38.99  111.43  147.51   75.56   \n",
       "...                           ...     ...     ...     ...     ...     ...   \n",
       "2022-09-14 04:00:00+00:00  351.16  286.21  110.76  187.95  209.87  202.32   \n",
       "2022-09-15 04:00:00+00:00  347.06  282.31  110.61  186.72  205.42  203.61   \n",
       "2022-09-16 04:00:00+00:00  346.07  280.29  110.10  183.25  202.56  199.71   \n",
       "2022-09-19 04:00:00+00:00  344.69  278.51  111.09  182.61  203.00  199.85   \n",
       "2022-09-20 04:00:00+00:00  339.35  270.81  110.09  177.84  198.74  194.18   \n",
       "\n",
       "                             OMC    IPG    RHI   NLSN  ...     ETR    CMS  \\\n",
       "timestamp                                              ...                  \n",
       "2015-12-01 05:00:00+00:00  75.00  23.34  52.03  47.46  ...   67.39  35.39   \n",
       "2015-12-02 05:00:00+00:00  74.14  23.05  51.33  46.64  ...   65.31  34.79   \n",
       "2015-12-03 05:00:00+00:00  74.10  22.95  49.72  45.67  ...   64.36  34.24   \n",
       "2015-12-04 05:00:00+00:00  75.24  23.44  50.31  46.89  ...   65.93  34.98   \n",
       "2015-12-07 05:00:00+00:00  76.53  23.52  50.11  46.68  ...   66.69  35.50   \n",
       "...                          ...    ...    ...    ...  ...     ...    ...   \n",
       "2022-09-14 04:00:00+00:00  68.13  27.59  78.66  27.85  ...  118.71  68.69   \n",
       "2022-09-15 04:00:00+00:00  68.95  27.82  78.30  27.80  ...  115.30  66.64   \n",
       "2022-09-16 04:00:00+00:00  66.99  27.30  76.71  27.83  ...  115.42  66.84   \n",
       "2022-09-19 04:00:00+00:00  68.00  27.69  78.30  27.82  ...  115.88  67.20   \n",
       "2022-09-20 04:00:00+00:00  65.41  26.88  76.61  27.85  ...  114.30  66.75   \n",
       "\n",
       "                             CNP    AES   EVRG    LNT     ATO     NI    NRG  \\\n",
       "timestamp                                                                     \n",
       "2015-12-01 05:00:00+00:00  16.99   9.98    NaN  61.40   62.59  19.39  12.35   \n",
       "2015-12-02 05:00:00+00:00  16.60   9.60    NaN  60.62   61.93  19.29  10.79   \n",
       "2015-12-03 05:00:00+00:00  16.45   9.52    NaN  59.39   61.14  18.93  10.97   \n",
       "2015-12-04 05:00:00+00:00  16.51   9.32    NaN  60.35   62.25  19.10   9.00   \n",
       "2015-12-07 05:00:00+00:00  16.41   9.21    NaN  60.33   61.98  19.14   9.55   \n",
       "...                          ...    ...    ...    ...     ...    ...    ...   \n",
       "2022-09-14 04:00:00+00:00  32.75  27.03  69.63  61.92  117.03  29.86  44.31   \n",
       "2022-09-15 04:00:00+00:00  32.18  26.69  67.56  60.23  114.12  28.96  44.86   \n",
       "2022-09-16 04:00:00+00:00  32.04  25.92  67.07  60.86  114.01  28.83  43.87   \n",
       "2022-09-19 04:00:00+00:00  32.46  26.60  67.66  61.89  115.22  29.29  44.02   \n",
       "2022-09-20 04:00:00+00:00  31.99  25.89  66.71  61.13  113.51  28.86  42.80   \n",
       "\n",
       "                             PNW  \n",
       "timestamp                         \n",
       "2015-12-01 05:00:00+00:00  63.52  \n",
       "2015-12-02 05:00:00+00:00  62.06  \n",
       "2015-12-03 05:00:00+00:00  61.11  \n",
       "2015-12-04 05:00:00+00:00  62.38  \n",
       "2015-12-07 05:00:00+00:00  63.13  \n",
       "...                          ...  \n",
       "2022-09-14 04:00:00+00:00  75.42  \n",
       "2022-09-15 04:00:00+00:00  73.82  \n",
       "2022-09-16 04:00:00+00:00  73.63  \n",
       "2022-09-19 04:00:00+00:00  74.69  \n",
       "2022-09-20 04:00:00+00:00  73.31  \n",
       "\n",
       "[1713 rows x 498 columns]"
      ]
     },
     "execution_count": 110,
     "metadata": {},
     "output_type": "execute_result"
    }
   ],
   "source": [
    "sp500_df"
   ]
  },
  {
   "cell_type": "markdown",
   "id": "2adb3940-955f-4bb9-b1de-da9c3c1d2bd9",
   "metadata": {},
   "source": [
    "### Calculating Percentange changes and dropping nulls"
   ]
  },
  {
   "cell_type": "code",
   "execution_count": 111,
   "id": "0ca3aebe-530e-4a8a-a5c4-12d9b89d1ac5",
   "metadata": {},
   "outputs": [
    {
     "data": {
      "text/html": [
       "<div>\n",
       "<style scoped>\n",
       "    .dataframe tbody tr th:only-of-type {\n",
       "        vertical-align: middle;\n",
       "    }\n",
       "\n",
       "    .dataframe tbody tr th {\n",
       "        vertical-align: top;\n",
       "    }\n",
       "\n",
       "    .dataframe thead th {\n",
       "        text-align: right;\n",
       "    }\n",
       "</style>\n",
       "<table border=\"1\" class=\"dataframe\">\n",
       "  <thead>\n",
       "    <tr style=\"text-align: right;\">\n",
       "      <th></th>\n",
       "      <th>SPGI</th>\n",
       "      <th>MCO</th>\n",
       "      <th>CPRT</th>\n",
       "      <th>EFX</th>\n",
       "      <th>FLT</th>\n",
       "      <th>CRL</th>\n",
       "      <th>OMC</th>\n",
       "      <th>IPG</th>\n",
       "      <th>RHI</th>\n",
       "      <th>NLSN</th>\n",
       "      <th>...</th>\n",
       "      <th>ETR</th>\n",
       "      <th>CMS</th>\n",
       "      <th>CNP</th>\n",
       "      <th>AES</th>\n",
       "      <th>EVRG</th>\n",
       "      <th>LNT</th>\n",
       "      <th>ATO</th>\n",
       "      <th>NI</th>\n",
       "      <th>NRG</th>\n",
       "      <th>PNW</th>\n",
       "    </tr>\n",
       "    <tr>\n",
       "      <th>timestamp</th>\n",
       "      <th></th>\n",
       "      <th></th>\n",
       "      <th></th>\n",
       "      <th></th>\n",
       "      <th></th>\n",
       "      <th></th>\n",
       "      <th></th>\n",
       "      <th></th>\n",
       "      <th></th>\n",
       "      <th></th>\n",
       "      <th></th>\n",
       "      <th></th>\n",
       "      <th></th>\n",
       "      <th></th>\n",
       "      <th></th>\n",
       "      <th></th>\n",
       "      <th></th>\n",
       "      <th></th>\n",
       "      <th></th>\n",
       "      <th></th>\n",
       "      <th></th>\n",
       "    </tr>\n",
       "  </thead>\n",
       "  <tbody>\n",
       "    <tr>\n",
       "      <th>2021-06-04 04:00:00+00:00</th>\n",
       "      <td>0.008470</td>\n",
       "      <td>0.004098</td>\n",
       "      <td>0.011406</td>\n",
       "      <td>0.019303</td>\n",
       "      <td>-0.001046</td>\n",
       "      <td>0.015496</td>\n",
       "      <td>0.008158</td>\n",
       "      <td>-0.007939</td>\n",
       "      <td>0.003442</td>\n",
       "      <td>-0.006615</td>\n",
       "      <td>...</td>\n",
       "      <td>0.001040</td>\n",
       "      <td>-0.000798</td>\n",
       "      <td>0.000394</td>\n",
       "      <td>-0.004388</td>\n",
       "      <td>0.003359</td>\n",
       "      <td>-0.000344</td>\n",
       "      <td>-0.004744</td>\n",
       "      <td>0.000392</td>\n",
       "      <td>-0.011374</td>\n",
       "      <td>0.000690</td>\n",
       "    </tr>\n",
       "    <tr>\n",
       "      <th>2021-06-07 04:00:00+00:00</th>\n",
       "      <td>-0.008711</td>\n",
       "      <td>-0.001728</td>\n",
       "      <td>-0.005519</td>\n",
       "      <td>-0.020051</td>\n",
       "      <td>-0.016209</td>\n",
       "      <td>0.010094</td>\n",
       "      <td>-0.000242</td>\n",
       "      <td>-0.008892</td>\n",
       "      <td>-0.006085</td>\n",
       "      <td>-0.004070</td>\n",
       "      <td>...</td>\n",
       "      <td>0.006326</td>\n",
       "      <td>0.002874</td>\n",
       "      <td>0.007087</td>\n",
       "      <td>0.014423</td>\n",
       "      <td>-0.000638</td>\n",
       "      <td>-0.000172</td>\n",
       "      <td>0.002582</td>\n",
       "      <td>0.000785</td>\n",
       "      <td>0.017994</td>\n",
       "      <td>-0.000460</td>\n",
       "    </tr>\n",
       "    <tr>\n",
       "      <th>2021-06-08 04:00:00+00:00</th>\n",
       "      <td>0.008289</td>\n",
       "      <td>0.005611</td>\n",
       "      <td>0.000241</td>\n",
       "      <td>0.004416</td>\n",
       "      <td>-0.003963</td>\n",
       "      <td>0.008171</td>\n",
       "      <td>0.010872</td>\n",
       "      <td>0.003888</td>\n",
       "      <td>0.016476</td>\n",
       "      <td>0.004086</td>\n",
       "      <td>...</td>\n",
       "      <td>-0.004316</td>\n",
       "      <td>-0.039331</td>\n",
       "      <td>-0.004691</td>\n",
       "      <td>0.000000</td>\n",
       "      <td>-0.001436</td>\n",
       "      <td>-0.008778</td>\n",
       "      <td>-0.006735</td>\n",
       "      <td>-0.003528</td>\n",
       "      <td>0.044625</td>\n",
       "      <td>-0.001494</td>\n",
       "    </tr>\n",
       "    <tr>\n",
       "      <th>2021-06-09 04:00:00+00:00</th>\n",
       "      <td>0.000572</td>\n",
       "      <td>0.005431</td>\n",
       "      <td>-0.014795</td>\n",
       "      <td>-0.004745</td>\n",
       "      <td>-0.000737</td>\n",
       "      <td>0.008425</td>\n",
       "      <td>-0.001793</td>\n",
       "      <td>-0.001489</td>\n",
       "      <td>0.000000</td>\n",
       "      <td>-0.007029</td>\n",
       "      <td>...</td>\n",
       "      <td>0.014039</td>\n",
       "      <td>-0.006630</td>\n",
       "      <td>0.012176</td>\n",
       "      <td>-0.004739</td>\n",
       "      <td>0.012302</td>\n",
       "      <td>0.012329</td>\n",
       "      <td>0.008575</td>\n",
       "      <td>0.007868</td>\n",
       "      <td>0.017198</td>\n",
       "      <td>0.003454</td>\n",
       "    </tr>\n",
       "    <tr>\n",
       "      <th>2021-06-10 04:00:00+00:00</th>\n",
       "      <td>0.005512</td>\n",
       "      <td>0.003483</td>\n",
       "      <td>0.011426</td>\n",
       "      <td>0.001618</td>\n",
       "      <td>0.000701</td>\n",
       "      <td>0.025643</td>\n",
       "      <td>-0.006944</td>\n",
       "      <td>0.001193</td>\n",
       "      <td>-0.000876</td>\n",
       "      <td>-0.046945</td>\n",
       "      <td>...</td>\n",
       "      <td>0.009664</td>\n",
       "      <td>0.005173</td>\n",
       "      <td>0.006985</td>\n",
       "      <td>0.007143</td>\n",
       "      <td>0.010259</td>\n",
       "      <td>0.004117</td>\n",
       "      <td>0.000692</td>\n",
       "      <td>0.005074</td>\n",
       "      <td>-0.006545</td>\n",
       "      <td>0.011014</td>\n",
       "    </tr>\n",
       "    <tr>\n",
       "      <th>...</th>\n",
       "      <td>...</td>\n",
       "      <td>...</td>\n",
       "      <td>...</td>\n",
       "      <td>...</td>\n",
       "      <td>...</td>\n",
       "      <td>...</td>\n",
       "      <td>...</td>\n",
       "      <td>...</td>\n",
       "      <td>...</td>\n",
       "      <td>...</td>\n",
       "      <td>...</td>\n",
       "      <td>...</td>\n",
       "      <td>...</td>\n",
       "      <td>...</td>\n",
       "      <td>...</td>\n",
       "      <td>...</td>\n",
       "      <td>...</td>\n",
       "      <td>...</td>\n",
       "      <td>...</td>\n",
       "      <td>...</td>\n",
       "      <td>...</td>\n",
       "    </tr>\n",
       "    <tr>\n",
       "      <th>2022-09-14 04:00:00+00:00</th>\n",
       "      <td>-0.015007</td>\n",
       "      <td>-0.015479</td>\n",
       "      <td>0.005538</td>\n",
       "      <td>-0.017666</td>\n",
       "      <td>-0.010234</td>\n",
       "      <td>-0.052188</td>\n",
       "      <td>-0.011176</td>\n",
       "      <td>-0.007554</td>\n",
       "      <td>0.001783</td>\n",
       "      <td>-0.000359</td>\n",
       "      <td>...</td>\n",
       "      <td>0.008495</td>\n",
       "      <td>0.009553</td>\n",
       "      <td>0.012365</td>\n",
       "      <td>0.007454</td>\n",
       "      <td>0.011917</td>\n",
       "      <td>0.008141</td>\n",
       "      <td>0.004894</td>\n",
       "      <td>0.004373</td>\n",
       "      <td>0.021910</td>\n",
       "      <td>0.004662</td>\n",
       "    </tr>\n",
       "    <tr>\n",
       "      <th>2022-09-15 04:00:00+00:00</th>\n",
       "      <td>-0.011676</td>\n",
       "      <td>-0.013626</td>\n",
       "      <td>-0.001354</td>\n",
       "      <td>-0.006544</td>\n",
       "      <td>-0.021204</td>\n",
       "      <td>0.006376</td>\n",
       "      <td>0.012036</td>\n",
       "      <td>0.008336</td>\n",
       "      <td>-0.004577</td>\n",
       "      <td>-0.001795</td>\n",
       "      <td>...</td>\n",
       "      <td>-0.028725</td>\n",
       "      <td>-0.029844</td>\n",
       "      <td>-0.017405</td>\n",
       "      <td>-0.012579</td>\n",
       "      <td>-0.029729</td>\n",
       "      <td>-0.027293</td>\n",
       "      <td>-0.024865</td>\n",
       "      <td>-0.030141</td>\n",
       "      <td>0.012413</td>\n",
       "      <td>-0.021215</td>\n",
       "    </tr>\n",
       "    <tr>\n",
       "      <th>2022-09-16 04:00:00+00:00</th>\n",
       "      <td>-0.002853</td>\n",
       "      <td>-0.007155</td>\n",
       "      <td>-0.004611</td>\n",
       "      <td>-0.018584</td>\n",
       "      <td>-0.013923</td>\n",
       "      <td>-0.019154</td>\n",
       "      <td>-0.028426</td>\n",
       "      <td>-0.018692</td>\n",
       "      <td>-0.020307</td>\n",
       "      <td>0.001079</td>\n",
       "      <td>...</td>\n",
       "      <td>0.001041</td>\n",
       "      <td>0.003001</td>\n",
       "      <td>-0.004351</td>\n",
       "      <td>-0.028850</td>\n",
       "      <td>-0.007253</td>\n",
       "      <td>0.010460</td>\n",
       "      <td>-0.000964</td>\n",
       "      <td>-0.004489</td>\n",
       "      <td>-0.022069</td>\n",
       "      <td>-0.002574</td>\n",
       "    </tr>\n",
       "    <tr>\n",
       "      <th>2022-09-19 04:00:00+00:00</th>\n",
       "      <td>-0.003988</td>\n",
       "      <td>-0.006351</td>\n",
       "      <td>0.008992</td>\n",
       "      <td>-0.003492</td>\n",
       "      <td>0.002172</td>\n",
       "      <td>0.000701</td>\n",
       "      <td>0.015077</td>\n",
       "      <td>0.014286</td>\n",
       "      <td>0.020727</td>\n",
       "      <td>-0.000359</td>\n",
       "      <td>...</td>\n",
       "      <td>0.003985</td>\n",
       "      <td>0.005386</td>\n",
       "      <td>0.013109</td>\n",
       "      <td>0.026235</td>\n",
       "      <td>0.008797</td>\n",
       "      <td>0.016924</td>\n",
       "      <td>0.010613</td>\n",
       "      <td>0.015956</td>\n",
       "      <td>0.003419</td>\n",
       "      <td>0.014396</td>\n",
       "    </tr>\n",
       "    <tr>\n",
       "      <th>2022-09-20 04:00:00+00:00</th>\n",
       "      <td>-0.015492</td>\n",
       "      <td>-0.027647</td>\n",
       "      <td>-0.009002</td>\n",
       "      <td>-0.026121</td>\n",
       "      <td>-0.020985</td>\n",
       "      <td>-0.028371</td>\n",
       "      <td>-0.038088</td>\n",
       "      <td>-0.029252</td>\n",
       "      <td>-0.021584</td>\n",
       "      <td>0.001078</td>\n",
       "      <td>...</td>\n",
       "      <td>-0.013635</td>\n",
       "      <td>-0.006696</td>\n",
       "      <td>-0.014479</td>\n",
       "      <td>-0.026692</td>\n",
       "      <td>-0.014041</td>\n",
       "      <td>-0.012280</td>\n",
       "      <td>-0.014841</td>\n",
       "      <td>-0.014681</td>\n",
       "      <td>-0.027715</td>\n",
       "      <td>-0.018476</td>\n",
       "    </tr>\n",
       "  </tbody>\n",
       "</table>\n",
       "<p>327 rows × 498 columns</p>\n",
       "</div>"
      ],
      "text/plain": [
       "                               SPGI       MCO      CPRT       EFX       FLT  \\\n",
       "timestamp                                                                     \n",
       "2021-06-04 04:00:00+00:00  0.008470  0.004098  0.011406  0.019303 -0.001046   \n",
       "2021-06-07 04:00:00+00:00 -0.008711 -0.001728 -0.005519 -0.020051 -0.016209   \n",
       "2021-06-08 04:00:00+00:00  0.008289  0.005611  0.000241  0.004416 -0.003963   \n",
       "2021-06-09 04:00:00+00:00  0.000572  0.005431 -0.014795 -0.004745 -0.000737   \n",
       "2021-06-10 04:00:00+00:00  0.005512  0.003483  0.011426  0.001618  0.000701   \n",
       "...                             ...       ...       ...       ...       ...   \n",
       "2022-09-14 04:00:00+00:00 -0.015007 -0.015479  0.005538 -0.017666 -0.010234   \n",
       "2022-09-15 04:00:00+00:00 -0.011676 -0.013626 -0.001354 -0.006544 -0.021204   \n",
       "2022-09-16 04:00:00+00:00 -0.002853 -0.007155 -0.004611 -0.018584 -0.013923   \n",
       "2022-09-19 04:00:00+00:00 -0.003988 -0.006351  0.008992 -0.003492  0.002172   \n",
       "2022-09-20 04:00:00+00:00 -0.015492 -0.027647 -0.009002 -0.026121 -0.020985   \n",
       "\n",
       "                                CRL       OMC       IPG       RHI      NLSN  \\\n",
       "timestamp                                                                     \n",
       "2021-06-04 04:00:00+00:00  0.015496  0.008158 -0.007939  0.003442 -0.006615   \n",
       "2021-06-07 04:00:00+00:00  0.010094 -0.000242 -0.008892 -0.006085 -0.004070   \n",
       "2021-06-08 04:00:00+00:00  0.008171  0.010872  0.003888  0.016476  0.004086   \n",
       "2021-06-09 04:00:00+00:00  0.008425 -0.001793 -0.001489  0.000000 -0.007029   \n",
       "2021-06-10 04:00:00+00:00  0.025643 -0.006944  0.001193 -0.000876 -0.046945   \n",
       "...                             ...       ...       ...       ...       ...   \n",
       "2022-09-14 04:00:00+00:00 -0.052188 -0.011176 -0.007554  0.001783 -0.000359   \n",
       "2022-09-15 04:00:00+00:00  0.006376  0.012036  0.008336 -0.004577 -0.001795   \n",
       "2022-09-16 04:00:00+00:00 -0.019154 -0.028426 -0.018692 -0.020307  0.001079   \n",
       "2022-09-19 04:00:00+00:00  0.000701  0.015077  0.014286  0.020727 -0.000359   \n",
       "2022-09-20 04:00:00+00:00 -0.028371 -0.038088 -0.029252 -0.021584  0.001078   \n",
       "\n",
       "                           ...       ETR       CMS       CNP       AES  \\\n",
       "timestamp                  ...                                           \n",
       "2021-06-04 04:00:00+00:00  ...  0.001040 -0.000798  0.000394 -0.004388   \n",
       "2021-06-07 04:00:00+00:00  ...  0.006326  0.002874  0.007087  0.014423   \n",
       "2021-06-08 04:00:00+00:00  ... -0.004316 -0.039331 -0.004691  0.000000   \n",
       "2021-06-09 04:00:00+00:00  ...  0.014039 -0.006630  0.012176 -0.004739   \n",
       "2021-06-10 04:00:00+00:00  ...  0.009664  0.005173  0.006985  0.007143   \n",
       "...                        ...       ...       ...       ...       ...   \n",
       "2022-09-14 04:00:00+00:00  ...  0.008495  0.009553  0.012365  0.007454   \n",
       "2022-09-15 04:00:00+00:00  ... -0.028725 -0.029844 -0.017405 -0.012579   \n",
       "2022-09-16 04:00:00+00:00  ...  0.001041  0.003001 -0.004351 -0.028850   \n",
       "2022-09-19 04:00:00+00:00  ...  0.003985  0.005386  0.013109  0.026235   \n",
       "2022-09-20 04:00:00+00:00  ... -0.013635 -0.006696 -0.014479 -0.026692   \n",
       "\n",
       "                               EVRG       LNT       ATO        NI       NRG  \\\n",
       "timestamp                                                                     \n",
       "2021-06-04 04:00:00+00:00  0.003359 -0.000344 -0.004744  0.000392 -0.011374   \n",
       "2021-06-07 04:00:00+00:00 -0.000638 -0.000172  0.002582  0.000785  0.017994   \n",
       "2021-06-08 04:00:00+00:00 -0.001436 -0.008778 -0.006735 -0.003528  0.044625   \n",
       "2021-06-09 04:00:00+00:00  0.012302  0.012329  0.008575  0.007868  0.017198   \n",
       "2021-06-10 04:00:00+00:00  0.010259  0.004117  0.000692  0.005074 -0.006545   \n",
       "...                             ...       ...       ...       ...       ...   \n",
       "2022-09-14 04:00:00+00:00  0.011917  0.008141  0.004894  0.004373  0.021910   \n",
       "2022-09-15 04:00:00+00:00 -0.029729 -0.027293 -0.024865 -0.030141  0.012413   \n",
       "2022-09-16 04:00:00+00:00 -0.007253  0.010460 -0.000964 -0.004489 -0.022069   \n",
       "2022-09-19 04:00:00+00:00  0.008797  0.016924  0.010613  0.015956  0.003419   \n",
       "2022-09-20 04:00:00+00:00 -0.014041 -0.012280 -0.014841 -0.014681 -0.027715   \n",
       "\n",
       "                                PNW  \n",
       "timestamp                            \n",
       "2021-06-04 04:00:00+00:00  0.000690  \n",
       "2021-06-07 04:00:00+00:00 -0.000460  \n",
       "2021-06-08 04:00:00+00:00 -0.001494  \n",
       "2021-06-09 04:00:00+00:00  0.003454  \n",
       "2021-06-10 04:00:00+00:00  0.011014  \n",
       "...                             ...  \n",
       "2022-09-14 04:00:00+00:00  0.004662  \n",
       "2022-09-15 04:00:00+00:00 -0.021215  \n",
       "2022-09-16 04:00:00+00:00 -0.002574  \n",
       "2022-09-19 04:00:00+00:00  0.014396  \n",
       "2022-09-20 04:00:00+00:00 -0.018476  \n",
       "\n",
       "[327 rows x 498 columns]"
      ]
     },
     "execution_count": 111,
     "metadata": {},
     "output_type": "execute_result"
    }
   ],
   "source": [
    "sp500_returns = sp500_df.pct_change().dropna()\n",
    "sp500_returns"
   ]
  },
  {
   "cell_type": "markdown",
   "id": "c3f49144-b685-4382-8053-8ed30cce347a",
   "metadata": {},
   "source": [
    "### Calculating correlations"
   ]
  },
  {
   "cell_type": "code",
   "execution_count": 152,
   "id": "b9c9c3cb-3b66-4ec3-98f2-55d62459d3ae",
   "metadata": {},
   "outputs": [
    {
     "data": {
      "text/html": [
       "<div>\n",
       "<style scoped>\n",
       "    .dataframe tbody tr th:only-of-type {\n",
       "        vertical-align: middle;\n",
       "    }\n",
       "\n",
       "    .dataframe tbody tr th {\n",
       "        vertical-align: top;\n",
       "    }\n",
       "\n",
       "    .dataframe thead th {\n",
       "        text-align: right;\n",
       "    }\n",
       "</style>\n",
       "<table border=\"1\" class=\"dataframe\">\n",
       "  <thead>\n",
       "    <tr style=\"text-align: right;\">\n",
       "      <th></th>\n",
       "      <th>SPGI</th>\n",
       "      <th>MCO</th>\n",
       "      <th>CPRT</th>\n",
       "      <th>EFX</th>\n",
       "      <th>FLT</th>\n",
       "      <th>CRL</th>\n",
       "      <th>OMC</th>\n",
       "      <th>IPG</th>\n",
       "      <th>RHI</th>\n",
       "      <th>NLSN</th>\n",
       "      <th>...</th>\n",
       "      <th>ETR</th>\n",
       "      <th>CMS</th>\n",
       "      <th>CNP</th>\n",
       "      <th>AES</th>\n",
       "      <th>EVRG</th>\n",
       "      <th>LNT</th>\n",
       "      <th>ATO</th>\n",
       "      <th>NI</th>\n",
       "      <th>NRG</th>\n",
       "      <th>PNW</th>\n",
       "    </tr>\n",
       "  </thead>\n",
       "  <tbody>\n",
       "    <tr>\n",
       "      <th>SPGI</th>\n",
       "      <td>1.000000</td>\n",
       "      <td>0.845701</td>\n",
       "      <td>0.649866</td>\n",
       "      <td>0.654673</td>\n",
       "      <td>0.432824</td>\n",
       "      <td>0.604270</td>\n",
       "      <td>0.347055</td>\n",
       "      <td>0.431462</td>\n",
       "      <td>0.409683</td>\n",
       "      <td>0.171866</td>\n",
       "      <td>...</td>\n",
       "      <td>0.262211</td>\n",
       "      <td>0.295585</td>\n",
       "      <td>0.382592</td>\n",
       "      <td>0.440113</td>\n",
       "      <td>0.344931</td>\n",
       "      <td>0.298022</td>\n",
       "      <td>0.268303</td>\n",
       "      <td>0.315225</td>\n",
       "      <td>0.285600</td>\n",
       "      <td>0.165313</td>\n",
       "    </tr>\n",
       "    <tr>\n",
       "      <th>MCO</th>\n",
       "      <td>0.845701</td>\n",
       "      <td>1.000000</td>\n",
       "      <td>0.691929</td>\n",
       "      <td>0.668767</td>\n",
       "      <td>0.471373</td>\n",
       "      <td>0.629378</td>\n",
       "      <td>0.370397</td>\n",
       "      <td>0.452186</td>\n",
       "      <td>0.490758</td>\n",
       "      <td>0.208298</td>\n",
       "      <td>...</td>\n",
       "      <td>0.247331</td>\n",
       "      <td>0.253639</td>\n",
       "      <td>0.377736</td>\n",
       "      <td>0.491178</td>\n",
       "      <td>0.343000</td>\n",
       "      <td>0.287654</td>\n",
       "      <td>0.263989</td>\n",
       "      <td>0.323586</td>\n",
       "      <td>0.313250</td>\n",
       "      <td>0.177262</td>\n",
       "    </tr>\n",
       "    <tr>\n",
       "      <th>CPRT</th>\n",
       "      <td>0.649866</td>\n",
       "      <td>0.691929</td>\n",
       "      <td>1.000000</td>\n",
       "      <td>0.692249</td>\n",
       "      <td>0.516341</td>\n",
       "      <td>0.599006</td>\n",
       "      <td>0.456198</td>\n",
       "      <td>0.577807</td>\n",
       "      <td>0.599784</td>\n",
       "      <td>0.268637</td>\n",
       "      <td>...</td>\n",
       "      <td>0.167091</td>\n",
       "      <td>0.174301</td>\n",
       "      <td>0.335394</td>\n",
       "      <td>0.473148</td>\n",
       "      <td>0.253219</td>\n",
       "      <td>0.203166</td>\n",
       "      <td>0.219159</td>\n",
       "      <td>0.229408</td>\n",
       "      <td>0.316277</td>\n",
       "      <td>0.130296</td>\n",
       "    </tr>\n",
       "    <tr>\n",
       "      <th>EFX</th>\n",
       "      <td>0.654673</td>\n",
       "      <td>0.668767</td>\n",
       "      <td>0.692249</td>\n",
       "      <td>1.000000</td>\n",
       "      <td>0.439309</td>\n",
       "      <td>0.487619</td>\n",
       "      <td>0.458092</td>\n",
       "      <td>0.532428</td>\n",
       "      <td>0.551634</td>\n",
       "      <td>0.291349</td>\n",
       "      <td>...</td>\n",
       "      <td>0.225890</td>\n",
       "      <td>0.198108</td>\n",
       "      <td>0.390997</td>\n",
       "      <td>0.490297</td>\n",
       "      <td>0.328360</td>\n",
       "      <td>0.239353</td>\n",
       "      <td>0.269197</td>\n",
       "      <td>0.296175</td>\n",
       "      <td>0.303923</td>\n",
       "      <td>0.193469</td>\n",
       "    </tr>\n",
       "    <tr>\n",
       "      <th>FLT</th>\n",
       "      <td>0.432824</td>\n",
       "      <td>0.471373</td>\n",
       "      <td>0.516341</td>\n",
       "      <td>0.439309</td>\n",
       "      <td>1.000000</td>\n",
       "      <td>0.366322</td>\n",
       "      <td>0.573981</td>\n",
       "      <td>0.590001</td>\n",
       "      <td>0.509011</td>\n",
       "      <td>0.257309</td>\n",
       "      <td>...</td>\n",
       "      <td>0.258905</td>\n",
       "      <td>0.190521</td>\n",
       "      <td>0.431500</td>\n",
       "      <td>0.462736</td>\n",
       "      <td>0.306029</td>\n",
       "      <td>0.227465</td>\n",
       "      <td>0.365666</td>\n",
       "      <td>0.339462</td>\n",
       "      <td>0.281422</td>\n",
       "      <td>0.221239</td>\n",
       "    </tr>\n",
       "    <tr>\n",
       "      <th>...</th>\n",
       "      <td>...</td>\n",
       "      <td>...</td>\n",
       "      <td>...</td>\n",
       "      <td>...</td>\n",
       "      <td>...</td>\n",
       "      <td>...</td>\n",
       "      <td>...</td>\n",
       "      <td>...</td>\n",
       "      <td>...</td>\n",
       "      <td>...</td>\n",
       "      <td>...</td>\n",
       "      <td>...</td>\n",
       "      <td>...</td>\n",
       "      <td>...</td>\n",
       "      <td>...</td>\n",
       "      <td>...</td>\n",
       "      <td>...</td>\n",
       "      <td>...</td>\n",
       "      <td>...</td>\n",
       "      <td>...</td>\n",
       "      <td>...</td>\n",
       "    </tr>\n",
       "    <tr>\n",
       "      <th>LNT</th>\n",
       "      <td>0.298022</td>\n",
       "      <td>0.287654</td>\n",
       "      <td>0.203166</td>\n",
       "      <td>0.239353</td>\n",
       "      <td>0.227465</td>\n",
       "      <td>0.191874</td>\n",
       "      <td>0.176055</td>\n",
       "      <td>0.216373</td>\n",
       "      <td>0.198055</td>\n",
       "      <td>0.133611</td>\n",
       "      <td>...</td>\n",
       "      <td>0.771720</td>\n",
       "      <td>0.873638</td>\n",
       "      <td>0.713928</td>\n",
       "      <td>0.404437</td>\n",
       "      <td>0.832978</td>\n",
       "      <td>1.000000</td>\n",
       "      <td>0.778163</td>\n",
       "      <td>0.792246</td>\n",
       "      <td>0.380682</td>\n",
       "      <td>0.683720</td>\n",
       "    </tr>\n",
       "    <tr>\n",
       "      <th>ATO</th>\n",
       "      <td>0.268303</td>\n",
       "      <td>0.263989</td>\n",
       "      <td>0.219159</td>\n",
       "      <td>0.269197</td>\n",
       "      <td>0.365666</td>\n",
       "      <td>0.199519</td>\n",
       "      <td>0.301308</td>\n",
       "      <td>0.313842</td>\n",
       "      <td>0.270144</td>\n",
       "      <td>0.155448</td>\n",
       "      <td>...</td>\n",
       "      <td>0.723997</td>\n",
       "      <td>0.778157</td>\n",
       "      <td>0.742719</td>\n",
       "      <td>0.431537</td>\n",
       "      <td>0.758693</td>\n",
       "      <td>0.778163</td>\n",
       "      <td>1.000000</td>\n",
       "      <td>0.790439</td>\n",
       "      <td>0.364287</td>\n",
       "      <td>0.642864</td>\n",
       "    </tr>\n",
       "    <tr>\n",
       "      <th>NI</th>\n",
       "      <td>0.315225</td>\n",
       "      <td>0.323586</td>\n",
       "      <td>0.229408</td>\n",
       "      <td>0.296175</td>\n",
       "      <td>0.339462</td>\n",
       "      <td>0.190969</td>\n",
       "      <td>0.288714</td>\n",
       "      <td>0.294829</td>\n",
       "      <td>0.242120</td>\n",
       "      <td>0.162559</td>\n",
       "      <td>...</td>\n",
       "      <td>0.768959</td>\n",
       "      <td>0.799754</td>\n",
       "      <td>0.738295</td>\n",
       "      <td>0.457943</td>\n",
       "      <td>0.808981</td>\n",
       "      <td>0.792246</td>\n",
       "      <td>0.790439</td>\n",
       "      <td>1.000000</td>\n",
       "      <td>0.449900</td>\n",
       "      <td>0.686429</td>\n",
       "    </tr>\n",
       "    <tr>\n",
       "      <th>NRG</th>\n",
       "      <td>0.285600</td>\n",
       "      <td>0.313250</td>\n",
       "      <td>0.316277</td>\n",
       "      <td>0.303923</td>\n",
       "      <td>0.281422</td>\n",
       "      <td>0.308023</td>\n",
       "      <td>0.351857</td>\n",
       "      <td>0.380506</td>\n",
       "      <td>0.260266</td>\n",
       "      <td>0.177182</td>\n",
       "      <td>...</td>\n",
       "      <td>0.388349</td>\n",
       "      <td>0.313021</td>\n",
       "      <td>0.399243</td>\n",
       "      <td>0.450411</td>\n",
       "      <td>0.445083</td>\n",
       "      <td>0.380682</td>\n",
       "      <td>0.364287</td>\n",
       "      <td>0.449900</td>\n",
       "      <td>1.000000</td>\n",
       "      <td>0.380801</td>\n",
       "    </tr>\n",
       "    <tr>\n",
       "      <th>PNW</th>\n",
       "      <td>0.165313</td>\n",
       "      <td>0.177262</td>\n",
       "      <td>0.130296</td>\n",
       "      <td>0.193469</td>\n",
       "      <td>0.221239</td>\n",
       "      <td>0.129481</td>\n",
       "      <td>0.240649</td>\n",
       "      <td>0.243147</td>\n",
       "      <td>0.166385</td>\n",
       "      <td>0.124955</td>\n",
       "      <td>...</td>\n",
       "      <td>0.669720</td>\n",
       "      <td>0.673796</td>\n",
       "      <td>0.621763</td>\n",
       "      <td>0.377130</td>\n",
       "      <td>0.693203</td>\n",
       "      <td>0.683720</td>\n",
       "      <td>0.642864</td>\n",
       "      <td>0.686429</td>\n",
       "      <td>0.380801</td>\n",
       "      <td>1.000000</td>\n",
       "    </tr>\n",
       "  </tbody>\n",
       "</table>\n",
       "<p>498 rows × 498 columns</p>\n",
       "</div>"
      ],
      "text/plain": [
       "          SPGI       MCO      CPRT       EFX       FLT       CRL       OMC  \\\n",
       "SPGI  1.000000  0.845701  0.649866  0.654673  0.432824  0.604270  0.347055   \n",
       "MCO   0.845701  1.000000  0.691929  0.668767  0.471373  0.629378  0.370397   \n",
       "CPRT  0.649866  0.691929  1.000000  0.692249  0.516341  0.599006  0.456198   \n",
       "EFX   0.654673  0.668767  0.692249  1.000000  0.439309  0.487619  0.458092   \n",
       "FLT   0.432824  0.471373  0.516341  0.439309  1.000000  0.366322  0.573981   \n",
       "...        ...       ...       ...       ...       ...       ...       ...   \n",
       "LNT   0.298022  0.287654  0.203166  0.239353  0.227465  0.191874  0.176055   \n",
       "ATO   0.268303  0.263989  0.219159  0.269197  0.365666  0.199519  0.301308   \n",
       "NI    0.315225  0.323586  0.229408  0.296175  0.339462  0.190969  0.288714   \n",
       "NRG   0.285600  0.313250  0.316277  0.303923  0.281422  0.308023  0.351857   \n",
       "PNW   0.165313  0.177262  0.130296  0.193469  0.221239  0.129481  0.240649   \n",
       "\n",
       "           IPG       RHI      NLSN  ...       ETR       CMS       CNP  \\\n",
       "SPGI  0.431462  0.409683  0.171866  ...  0.262211  0.295585  0.382592   \n",
       "MCO   0.452186  0.490758  0.208298  ...  0.247331  0.253639  0.377736   \n",
       "CPRT  0.577807  0.599784  0.268637  ...  0.167091  0.174301  0.335394   \n",
       "EFX   0.532428  0.551634  0.291349  ...  0.225890  0.198108  0.390997   \n",
       "FLT   0.590001  0.509011  0.257309  ...  0.258905  0.190521  0.431500   \n",
       "...        ...       ...       ...  ...       ...       ...       ...   \n",
       "LNT   0.216373  0.198055  0.133611  ...  0.771720  0.873638  0.713928   \n",
       "ATO   0.313842  0.270144  0.155448  ...  0.723997  0.778157  0.742719   \n",
       "NI    0.294829  0.242120  0.162559  ...  0.768959  0.799754  0.738295   \n",
       "NRG   0.380506  0.260266  0.177182  ...  0.388349  0.313021  0.399243   \n",
       "PNW   0.243147  0.166385  0.124955  ...  0.669720  0.673796  0.621763   \n",
       "\n",
       "           AES      EVRG       LNT       ATO        NI       NRG       PNW  \n",
       "SPGI  0.440113  0.344931  0.298022  0.268303  0.315225  0.285600  0.165313  \n",
       "MCO   0.491178  0.343000  0.287654  0.263989  0.323586  0.313250  0.177262  \n",
       "CPRT  0.473148  0.253219  0.203166  0.219159  0.229408  0.316277  0.130296  \n",
       "EFX   0.490297  0.328360  0.239353  0.269197  0.296175  0.303923  0.193469  \n",
       "FLT   0.462736  0.306029  0.227465  0.365666  0.339462  0.281422  0.221239  \n",
       "...        ...       ...       ...       ...       ...       ...       ...  \n",
       "LNT   0.404437  0.832978  1.000000  0.778163  0.792246  0.380682  0.683720  \n",
       "ATO   0.431537  0.758693  0.778163  1.000000  0.790439  0.364287  0.642864  \n",
       "NI    0.457943  0.808981  0.792246  0.790439  1.000000  0.449900  0.686429  \n",
       "NRG   0.450411  0.445083  0.380682  0.364287  0.449900  1.000000  0.380801  \n",
       "PNW   0.377130  0.693203  0.683720  0.642864  0.686429  0.380801  1.000000  \n",
       "\n",
       "[498 rows x 498 columns]"
      ]
     },
     "execution_count": 152,
     "metadata": {},
     "output_type": "execute_result"
    }
   ],
   "source": [
    "sp_500_correlations = sp500_returns.corr()\n",
    "sp_500_correlations"
   ]
  },
  {
   "cell_type": "markdown",
   "id": "aae64651-680f-4992-aece-4d6c3890a82b",
   "metadata": {},
   "source": [
    "# Heatmap on the population"
   ]
  },
  {
   "cell_type": "code",
   "execution_count": 153,
   "id": "60cc01a4-7eb8-440c-adca-bb75d82fc3d2",
   "metadata": {},
   "outputs": [
    {
     "data": {
      "text/plain": [
       "<AxesSubplot:>"
      ]
     },
     "execution_count": 153,
     "metadata": {},
     "output_type": "execute_result"
    },
    {
     "data": {
      "image/png": "[encoded data removed]",
      "text/plain": [
       "<Figure size 432x288 with 2 Axes>"
      ]
     },
     "metadata": {
      "needs_background": "light"
     },
     "output_type": "display_data"
    }
   ],
   "source": [
    "sns.heatmap(\n",
    "    sp_500_correlations, \n",
    "    vmin=-1, \n",
    "    vmax=1,\n",
    "    )"
   ]
  },
  {
   "cell_type": "code",
   "execution_count": 154,
   "id": "b4599b44-cfc5-4ed7-aba5-c84a366c5f0c",
   "metadata": {},
   "outputs": [],
   "source": [
    "#sp_500_correlations.to_csv('sp500_alpacas_correlations.csv')"
   ]
  },
  {
   "cell_type": "code",
   "execution_count": 155,
   "id": "113f42fb-f94c-460c-ab4d-5c061a399b2f",
   "metadata": {},
   "outputs": [
    {
     "name": "stdin",
     "output_type": "stream",
     "text": [
      "Enter Stock: AAPL\n"
     ]
    },
    {
     "data": {
      "text/plain": [
       "0.008523055026595802"
      ]
     },
     "execution_count": 155,
     "metadata": {},
     "output_type": "execute_result"
    }
   ],
   "source": [
    "#sp_500_mins = sp_500_correlations.min(\n",
    "stock = input('Enter Stock:')\n",
    "row = sp_500_correlations.loc[stock]\n",
    "# sp_500_correlations[f'{stock}'].min()\n",
    "min_value = row.min()\n",
    "min_value"
   ]
  },
  {
   "cell_type": "code",
   "execution_count": 156,
   "id": "346f6c49-3586-4908-b21c-447f96562fc6",
   "metadata": {},
   "outputs": [
    {
     "data": {
      "text/plain": [
       "'NEM'"
      ]
     },
     "execution_count": 156,
     "metadata": {},
     "output_type": "execute_result"
    }
   ],
   "source": [
    "index_output = sp_500_correlations[row == min_value].index[0]\n",
    "index_output"
   ]
  },
  {
   "cell_type": "markdown",
   "id": "46364658-46a6-4edb-b59e-43d0122ba8a5",
   "metadata": {},
   "source": [
    "# Returns\n",
    "Creating a list that calls for the user input and outputs"
   ]
  },
  {
   "cell_type": "code",
   "execution_count": 157,
   "id": "aa47acac-836f-42d3-bc5c-a41ad7201077",
   "metadata": {},
   "outputs": [
    {
     "name": "stdout",
     "output_type": "stream",
     "text": [
      "['AAPL', 'NEM']\n"
     ]
    }
   ],
   "source": [
    "in_out_list = [stock, index_output]\n",
    "portfolio = sp500_returns[in_out_list]\n",
    "print(in_out_list)"
   ]
  },
  {
   "cell_type": "code",
   "execution_count": 158,
   "id": "a47a13a1-b022-4098-8f3b-7333ac23cd85",
   "metadata": {},
   "outputs": [
    {
     "data": {
      "text/html": [
       "<div>\n",
       "<style scoped>\n",
       "    .dataframe tbody tr th:only-of-type {\n",
       "        vertical-align: middle;\n",
       "    }\n",
       "\n",
       "    .dataframe tbody tr th {\n",
       "        vertical-align: top;\n",
       "    }\n",
       "\n",
       "    .dataframe thead th {\n",
       "        text-align: right;\n",
       "    }\n",
       "</style>\n",
       "<table border=\"1\" class=\"dataframe\">\n",
       "  <thead>\n",
       "    <tr style=\"text-align: right;\">\n",
       "      <th></th>\n",
       "      <th>AAPL</th>\n",
       "      <th>NEM</th>\n",
       "    </tr>\n",
       "  </thead>\n",
       "  <tbody>\n",
       "    <tr>\n",
       "      <th>SPGI</th>\n",
       "      <td>0.568034</td>\n",
       "      <td>0.103239</td>\n",
       "    </tr>\n",
       "    <tr>\n",
       "      <th>MCO</th>\n",
       "      <td>0.626709</td>\n",
       "      <td>0.036098</td>\n",
       "    </tr>\n",
       "    <tr>\n",
       "      <th>CPRT</th>\n",
       "      <td>0.642663</td>\n",
       "      <td>-0.038547</td>\n",
       "    </tr>\n",
       "    <tr>\n",
       "      <th>EFX</th>\n",
       "      <td>0.545911</td>\n",
       "      <td>0.015282</td>\n",
       "    </tr>\n",
       "    <tr>\n",
       "      <th>FLT</th>\n",
       "      <td>0.491127</td>\n",
       "      <td>0.093220</td>\n",
       "    </tr>\n",
       "    <tr>\n",
       "      <th>...</th>\n",
       "      <td>...</td>\n",
       "      <td>...</td>\n",
       "    </tr>\n",
       "    <tr>\n",
       "      <th>LNT</th>\n",
       "      <td>0.227660</td>\n",
       "      <td>0.219722</td>\n",
       "    </tr>\n",
       "    <tr>\n",
       "      <th>ATO</th>\n",
       "      <td>0.264758</td>\n",
       "      <td>0.293143</td>\n",
       "    </tr>\n",
       "    <tr>\n",
       "      <th>NI</th>\n",
       "      <td>0.302646</td>\n",
       "      <td>0.214550</td>\n",
       "    </tr>\n",
       "    <tr>\n",
       "      <th>NRG</th>\n",
       "      <td>0.319507</td>\n",
       "      <td>0.103947</td>\n",
       "    </tr>\n",
       "    <tr>\n",
       "      <th>PNW</th>\n",
       "      <td>0.149312</td>\n",
       "      <td>0.261863</td>\n",
       "    </tr>\n",
       "  </tbody>\n",
       "</table>\n",
       "<p>498 rows × 2 columns</p>\n",
       "</div>"
      ],
      "text/plain": [
       "          AAPL       NEM\n",
       "SPGI  0.568034  0.103239\n",
       "MCO   0.626709  0.036098\n",
       "CPRT  0.642663 -0.038547\n",
       "EFX   0.545911  0.015282\n",
       "FLT   0.491127  0.093220\n",
       "...        ...       ...\n",
       "LNT   0.227660  0.219722\n",
       "ATO   0.264758  0.293143\n",
       "NI    0.302646  0.214550\n",
       "NRG   0.319507  0.103947\n",
       "PNW   0.149312  0.261863\n",
       "\n",
       "[498 rows x 2 columns]"
      ]
     },
     "execution_count": 158,
     "metadata": {},
     "output_type": "execute_result"
    }
   ],
   "source": [
    "sp_500_correlations[in_out_list]"
   ]
  },
  {
   "cell_type": "markdown",
   "id": "e7788d8b-5245-490c-a285-5b7f509b2c56",
   "metadata": {},
   "source": [
    "# Plotting Price Trends"
   ]
  },
  {
   "cell_type": "code",
   "execution_count": 159,
   "id": "399878d0-296d-49aa-9927-7c2142aa4c5f",
   "metadata": {},
   "outputs": [
    {
     "data": {
      "text/plain": [
       "<AxesSubplot:xlabel='timestamp'>"
      ]
     },
     "execution_count": 159,
     "metadata": {},
     "output_type": "execute_result"
    },
    {
     "data": {
      "image/png": "[encoded data removed]",
      "text/plain": [
       "<Figure size 432x288 with 1 Axes>"
      ]
     },
     "metadata": {
      "needs_background": "light"
     },
     "output_type": "display_data"
    }
   ],
   "source": [
    "# Plot the data trends of the two variables over time\n",
    "sp500_returns[in_out_list].plot()"
   ]
  },
  {
   "cell_type": "markdown",
   "id": "cebba4dd-5598-41fb-b78d-83bdd977c93d",
   "metadata": {},
   "source": [
    "# Ploting Price Relationships"
   ]
  },
  {
   "cell_type": "code",
   "execution_count": 160,
   "id": "74a4d88d-adbc-4f44-a4d8-3fa65d0b6b3e",
   "metadata": {},
   "outputs": [
    {
     "data": {
      "text/plain": [
       "<AxesSubplot:xlabel='[AAPL]', ylabel='[NEM]'>"
      ]
     },
     "execution_count": 160,
     "metadata": {},
     "output_type": "execute_result"
    },
    {
     "data": {
      "image/png": "[encoded data removed]",
      "text/plain": [
       "<Figure size 432x288 with 1 Axes>"
      ]
     },
     "metadata": {
      "needs_background": "light"
     },
     "output_type": "display_data"
    }
   ],
   "source": [
    "sp500_returns.plot(kind='scatter', x=[stock], y=[index_output])"
   ]
  },
  {
   "cell_type": "markdown",
   "id": "0bb51b2b-69d0-436c-9202-a8966e2ecfaf",
   "metadata": {},
   "source": [
    "# Ploting heatmap of the population"
   ]
  },
  {
   "cell_type": "code",
   "execution_count": 161,
   "id": "c2ddbf4f-29d3-4a33-89ad-8468e2a3706a",
   "metadata": {},
   "outputs": [
    {
     "data": {
      "text/plain": [
       "<AxesSubplot:>"
      ]
     },
     "execution_count": 161,
     "metadata": {},
     "output_type": "execute_result"
    },
    {
     "data": {
      "image/png": "[encoded data removed]",
      "text/plain": [
       "<Figure size 432x288 with 2 Axes>"
      ]
     },
     "metadata": {
      "needs_background": "light"
     },
     "output_type": "display_data"
    }
   ],
   "source": [
    "sns.heatmap(\n",
    "    sp_500_correlations[in_out_list], \n",
    "    vmin=-1, \n",
    "    vmax=1\n",
    ")"
   ]
  },
  {
   "cell_type": "code",
   "execution_count": 162,
   "id": "bed93f06-b6c2-4451-b1d4-339f43e4ef97",
   "metadata": {},
   "outputs": [],
   "source": [
    "import plotly.express as px"
   ]
  },
  {
   "cell_type": "code",
   "execution_count": 163,
   "id": "072704a0-59bb-4020-806e-aa15c8950920",
   "metadata": {},
   "outputs": [
    {
     "data": {
      "application/vnd.plotly.v1+json": {
       "config": {
        "plotlyServerURL": "https://plot.ly"
       },
       "data": [
        {
         "hovertemplate": "x=%{x}<br>timestamp=%{y}<extra></extra>",
         "legendgroup": "",
         "marker": {
          "color": "#636efa",
          "symbol": "circle"
         },
         "mode": "markers",
         "name": "",
         "orientation": "h",
         "showlegend": false,
         "type": "scatter",
         "x": [
          0.005488319729805902,
          0.0008397480755772957,
          -0.022094811914417534,
          0.0008580008580005849,
          0.01528789827118171,
          -0.010554461018857264,
          -0.0068269094012232134,
          -0.01074036946870971,
          -0.009119861030688958,
          -0.06983199415631847,
          -0.01649128317889126,
          0.012935164484190409,
          -0.008040359451363721,
          -0.004132231404958775,
          -0.005745292052345974,
          0.0060995184590690865,
          -0.0004786215698787677,
          -0.0011173184357542443,
          0.012783636944710741,
          -0.008204480908804102,
          0.00795418390073177,
          0.008364898989899006,
          -0.00406949444357485,
          -0.013672795851013775,
          0.019439133205863657,
          -0.012347608627696127,
          0.0028485519860736996,
          -0.00015780337699222713,
          0.002051767676767735,
          -0.027720900929280257,
          -0.01684756196338899,
          -0.004119294776734228,
          -0.001323626737260053,
          -0.00248508946322068,
          -0.0016608536787908745,
          0.004658126767592696,
          0.015399900645802322,
          0.009132420091324311,
          0.013574660633484115,
          0.0015943877551021224,
          -0.013371537726838634,
          0.0108099386899001,
          -0.01260973663208298,
          -0.009860976398318733,
          -0.023346938775510195,
          -0.01638248077566029,
          -0.013426240652617327,
          0.020844099913867264,
          -0.015356058049274313,
          0.008397600685518425,
          0.0006798096532971698,
          -0.00033967391304357,
          -0.033129459734964395,
          -0.006852925672113708,
          -0.0030077848549185937,
          0.025377107364684903,
          -0.005192107995846351,
          -0.009916492693110679,
          -0.004920049200491938,
          0.027547236447112766,
          -0.011685856676404871,
          0.008346374543557689,
          -0.0018968787722021263,
          0.014340013821700026,
          0.01635155850792036,
          -0.023294788000670308,
          -0.012354152367879179,
          -0.004343293954134797,
          -0.005583667771767553,
          0.0008773469029654812,
          0.0028050490883591017,
          0.008916083916083783,
          -0.03950788424883034,
          -0.003788562150460084,
          -0.021912350597609542,
          0.009257544899092807,
          0.0025683360851220804,
          -0.010978956999085132,
          -0.0033302497687326404,
          0.0005568962316688797,
          0.01261595547309824,
          -0.015939904727006238,
          0.010984919009495275,
          -0.013627992633517438,
          0.020724421209858068,
          -0.015364916773367487,
          0.013003901170351106,
          0.0014670823399962618,
          -0.005493499359091714,
          -0.0020254096851408665,
          0.010701107011070077,
          0.029025191675793982,
          0.02483590562355875,
          -0.012809416652241667,
          -0.011397510082412743,
          0.01081943951755937,
          0.002982979470082414,
          0.0003498950314906324,
          0.0075201119272472194,
          0.005207429265752461,
          -0.003626316698324916,
          -0.002772963604852796,
          -0.04553354188390679,
          -0.016751638747268816,
          0.005555555555555536,
          0.007550644567219322,
          0.007494059586912849,
          -0.004898403483309055,
          0.02752962625341837,
          -0.0030163236337829025,
          0.009966186154120038,
          0.025022026431718025,
          0.01168987450575898,
          -0.0020390824129142837,
          0.004086497531074373,
          -0.014074953366118303,
          -0.0032679738562091387,
          -0.013459879206212277,
          -0.01084484869686908,
          -0.013085764809902645,
          -0.005733739473212651,
          -0.00036042530185620425,
          0.008473048494681779,
          -0.009653199856989647,
          -0.008664259927797735,
          -0.019118718135469837,
          -0.011137924633376595,
          0.026281208935611033,
          0.02121821840131699,
          0.010030449579079281,
          -0.0005320092214932126,
          -0.002661462029808326,
          -0.001956947162426559,
          0.019073083778966105,
          -0.01749169144656293,
          -0.034538009613672815,
          0.08795869444956672,
          0.004067796610169427,
          -0.008946657663740698,
          -0.009027422926247697,
          0.0055001718803713295,
          0.017606837606837678,
          0.010918864438098419,
          0.0018278497839814278,
          0.005473544534748687,
          0.016001319696469896,
          0.006981652865724941,
          -0.01676878426314099,
          -0.009019350606756293,
          -0.001654807214959475,
          -0.02751533233880321,
          0.012953809442645348,
          0.016826518593302975,
          0.007943074631805436,
          0.010014775898867345,
          -0.0032509752925877766,
          -0.0016307893020222064,
          0.0004900359359687467,
          0.06040816326530618,
          -0.017090069284064646,
          -0.011748120300751896,
          -0.00015850372483761088,
          0.00332910589727331,
          -0.025280455048190875,
          -0.01669638515156424,
          -0.013188262446422683,
          0.021884396926161065,
          0.0026156612718652994,
          0.012718082504483919,
          -0.0049911447431976175,
          -0.014077669902912593,
          0.040045954373871595,
          0.0029982641628532036,
          -0.006450597860289564,
          -0.04148851939825804,
          0.05501404262349241,
          0.0076730347635451945,
          -0.01662781662781654,
          0.015802781289506962,
          0.05398257622899805,
          -0.0011808118081180208,
          -0.007388798581350664,
          0.01607860652076809,
          -0.022417582417582405,
          0.017685851318944845,
          -0.025036818851251863,
          0.04244712990936561,
          0.011302709752209816,
          0.012752543344318745,
          0.050933786078098287,
          0.04806138933764137,
          -0.003082851637764894,
          -0.02113129751320708,
          0.01724364880874041,
          -0.005046583850931707,
          -0.04096761607491228,
          -0.005017629509085797,
          -0.010358457135068888,
          0.009640545379424381,
          0.008866457509207448,
          0.031638723634397126,
          -0.0035386631716906036,
          0.037879784295672625,
          -0.008617412241794353,
          0.0092036303208487,
          -0.010259658011399608,
          0.005246992577425003,
          0.017950350095480516,
          -0.0063781890945471265,
          0.04191315292636877,
          -0.018482725295965174,
          -0.017107692307692268,
          -0.004007012271475041,
          0.01873271310032676,
          0.013451807972356011,
          -0.009498295177788663,
          0.014261126137201874,
          0.021818181818181737,
          0.005575326215895515,
          0.007667807007196048,
          -0.029969562163427832,
          -0.0032585083272990145,
          -0.06695725874803249,
          -0.0329613288346744,
          -0.025630703166935054,
          -0.006610659688748188,
          0,
          0.015943435463745992,
          -0.005867903930131146,
          -0.007412491420727418,
          -0.0009680542110359625,
          0.01591915836101898,
          -0.014307126311486562,
          0.007326513685374625,
          -0.05420612048854123,
          -0.009431224608241529,
          0.002197158341877836,
          -0.044869921075708974,
          -0.0015302218821727775,
          0.0030651340996168397,
          0.0007639419404124048,
          -0.024732824427480926,
          0.03490920475892301,
          0.016336409015277553,
          0.003571960113112116,
          0.0235800088981164,
          0.007534048101999646,
          -0.011935576646534551,
          0,
          -0.012516373162567263,
          -0.00854826823876198,
          0.02259551062880938,
          -0.014100886756796216,
          0.0005897965202006361,
          0.007662835249041988,
          -0.018426440479672235,
          -0.03784266984505369,
          0.035150201300712336,
          -0.03290949887808514,
          -0.024129930394431565,
          -0.003645585671263385,
          0.029430480432707462,
          -0.014680883943749001,
          0.02211417816813044,
          -0.009053245358293771,
          -0.0266336327036234,
          0.02099904549793208,
          -0.005453412277968361,
          -0.013629954566818037,
          -0.015406607369758518,
          -0.03742539119212773,
          0.02513826043237799,
          -0.023867909105770857,
          -0.004354379500921102,
          0.007064760302775364,
          -0.008518456656088191,
          -0.00960242587601079,
          -0.014458241197482624,
          0.004314808422505978,
          -0.054992266712493465,
          -0.004728132387706974,
          0.0014617211766856375,
          -0.002919175332968482,
          -0.042817932296431827,
          -0.0042056968074937195,
          -0.013438279900172878,
          -0.13232146331971195,
          0.03476115721013673,
          -0.011486779367143485,
          0.004385003288752465,
          -0.011569526304300415,
          -0.0075088339222615375,
          -0.002225189141076833,
          -0.009812667261373864,
          0.01981981981981984,
          -0.011263250883392195,
          0.00022336385972754336,
          0.011612326931665917,
          0.009713024282560712,
          -0.00961958898119819,
          0.02759381898454749,
          -0.01310418904403865,
          0.002394427514148978,
          -0.02497285559174811,
          -0.0055679287305122616,
          -0.02508398656215005,
          0.006662072134160368,
          0.016659059790050224,
          0.0056116722783390305,
          0.007589285714285854,
          -0.042534337616304874,
          -0.00948634891254041,
          -0.014249007241298739,
          -0.019905213270142275,
          -0.01088007736943919,
          0.018577364947445663,
          0.0009599232061434648,
          0.015344042196115959,
          0.0009445100354190661,
          0.01840056617126673,
          0.018068102849200907,
          -0.02093287827076229,
          -0.002323960027887595,
          -0.012345679012345734,
          0.030896226415094485,
          0.012811713566689642,
          -0.03320533092387634
         ],
         "xaxis": "x",
         "y": [
          "2021-06-04T04:00:00+00:00",
          "2021-06-07T04:00:00+00:00",
          "2021-06-08T04:00:00+00:00",
          "2021-06-09T04:00:00+00:00",
          "2021-06-10T04:00:00+00:00",
          "2021-06-11T04:00:00+00:00",
          "2021-06-14T04:00:00+00:00",
          "2021-06-15T04:00:00+00:00",
          "2021-06-16T04:00:00+00:00",
          "2021-06-17T04:00:00+00:00",
          "2021-06-18T04:00:00+00:00",
          "2021-06-21T04:00:00+00:00",
          "2021-06-22T04:00:00+00:00",
          "2021-06-23T04:00:00+00:00",
          "2021-06-24T04:00:00+00:00",
          "2021-06-25T04:00:00+00:00",
          "2021-06-28T04:00:00+00:00",
          "2021-06-29T04:00:00+00:00",
          "2021-06-30T04:00:00+00:00",
          "2021-07-01T04:00:00+00:00",
          "2021-07-02T04:00:00+00:00",
          "2021-07-06T04:00:00+00:00",
          "2021-07-07T04:00:00+00:00",
          "2021-07-08T04:00:00+00:00",
          "2021-07-09T04:00:00+00:00",
          "2021-07-12T04:00:00+00:00",
          "2021-07-13T04:00:00+00:00",
          "2021-07-14T04:00:00+00:00",
          "2021-07-15T04:00:00+00:00",
          "2021-07-16T04:00:00+00:00",
          "2021-07-19T04:00:00+00:00",
          "2021-07-20T04:00:00+00:00",
          "2021-07-21T04:00:00+00:00",
          "2021-07-22T04:00:00+00:00",
          "2021-07-23T04:00:00+00:00",
          "2021-07-26T04:00:00+00:00",
          "2021-07-27T04:00:00+00:00",
          "2021-07-28T04:00:00+00:00",
          "2021-07-29T04:00:00+00:00",
          "2021-07-30T04:00:00+00:00",
          "2021-08-02T04:00:00+00:00",
          "2021-08-03T04:00:00+00:00",
          "2021-08-04T04:00:00+00:00",
          "2021-08-05T04:00:00+00:00",
          "2021-08-06T04:00:00+00:00",
          "2021-08-09T04:00:00+00:00",
          "2021-08-10T04:00:00+00:00",
          "2021-08-11T04:00:00+00:00",
          "2021-08-12T04:00:00+00:00",
          "2021-08-13T04:00:00+00:00",
          "2021-08-16T04:00:00+00:00",
          "2021-08-17T04:00:00+00:00",
          "2021-08-18T04:00:00+00:00",
          "2021-08-19T04:00:00+00:00",
          "2021-08-20T04:00:00+00:00",
          "2021-08-23T04:00:00+00:00",
          "2021-08-24T04:00:00+00:00",
          "2021-08-25T04:00:00+00:00",
          "2021-08-26T04:00:00+00:00",
          "2021-08-27T04:00:00+00:00",
          "2021-08-30T04:00:00+00:00",
          "2021-08-31T04:00:00+00:00",
          "2021-09-01T04:00:00+00:00",
          "2021-09-02T04:00:00+00:00",
          "2021-09-03T04:00:00+00:00",
          "2021-09-07T04:00:00+00:00",
          "2021-09-08T04:00:00+00:00",
          "2021-09-09T04:00:00+00:00",
          "2021-09-10T04:00:00+00:00",
          "2021-09-13T04:00:00+00:00",
          "2021-09-14T04:00:00+00:00",
          "2021-09-15T04:00:00+00:00",
          "2021-09-16T04:00:00+00:00",
          "2021-09-17T04:00:00+00:00",
          "2021-09-20T04:00:00+00:00",
          "2021-09-21T04:00:00+00:00",
          "2021-09-22T04:00:00+00:00",
          "2021-09-23T04:00:00+00:00",
          "2021-09-24T04:00:00+00:00",
          "2021-09-27T04:00:00+00:00",
          "2021-09-28T04:00:00+00:00",
          "2021-09-29T04:00:00+00:00",
          "2021-09-30T04:00:00+00:00",
          "2021-10-01T04:00:00+00:00",
          "2021-10-04T04:00:00+00:00",
          "2021-10-05T04:00:00+00:00",
          "2021-10-06T04:00:00+00:00",
          "2021-10-07T04:00:00+00:00",
          "2021-10-08T04:00:00+00:00",
          "2021-10-11T04:00:00+00:00",
          "2021-10-12T04:00:00+00:00",
          "2021-10-13T04:00:00+00:00",
          "2021-10-14T04:00:00+00:00",
          "2021-10-15T04:00:00+00:00",
          "2021-10-18T04:00:00+00:00",
          "2021-10-19T04:00:00+00:00",
          "2021-10-20T04:00:00+00:00",
          "2021-10-21T04:00:00+00:00",
          "2021-10-22T04:00:00+00:00",
          "2021-10-25T04:00:00+00:00",
          "2021-10-26T04:00:00+00:00",
          "2021-10-27T04:00:00+00:00",
          "2021-10-28T04:00:00+00:00",
          "2021-10-29T04:00:00+00:00",
          "2021-11-01T04:00:00+00:00",
          "2021-11-02T04:00:00+00:00",
          "2021-11-03T04:00:00+00:00",
          "2021-11-04T04:00:00+00:00",
          "2021-11-05T04:00:00+00:00",
          "2021-11-08T05:00:00+00:00",
          "2021-11-09T05:00:00+00:00",
          "2021-11-10T05:00:00+00:00",
          "2021-11-11T05:00:00+00:00",
          "2021-11-12T05:00:00+00:00",
          "2021-11-15T05:00:00+00:00",
          "2021-11-16T05:00:00+00:00",
          "2021-11-17T05:00:00+00:00",
          "2021-11-18T05:00:00+00:00",
          "2021-11-19T05:00:00+00:00",
          "2021-11-22T05:00:00+00:00",
          "2021-11-23T05:00:00+00:00",
          "2021-11-24T05:00:00+00:00",
          "2021-11-26T05:00:00+00:00",
          "2021-11-29T05:00:00+00:00",
          "2021-11-30T05:00:00+00:00",
          "2021-12-01T05:00:00+00:00",
          "2021-12-02T05:00:00+00:00",
          "2021-12-03T05:00:00+00:00",
          "2021-12-06T05:00:00+00:00",
          "2021-12-07T05:00:00+00:00",
          "2021-12-08T05:00:00+00:00",
          "2021-12-09T05:00:00+00:00",
          "2021-12-10T05:00:00+00:00",
          "2021-12-13T05:00:00+00:00",
          "2021-12-14T05:00:00+00:00",
          "2021-12-15T05:00:00+00:00",
          "2021-12-16T05:00:00+00:00",
          "2021-12-17T05:00:00+00:00",
          "2021-12-20T05:00:00+00:00",
          "2021-12-21T05:00:00+00:00",
          "2021-12-22T05:00:00+00:00",
          "2021-12-23T05:00:00+00:00",
          "2021-12-27T05:00:00+00:00",
          "2021-12-28T05:00:00+00:00",
          "2021-12-29T05:00:00+00:00",
          "2021-12-30T05:00:00+00:00",
          "2021-12-31T05:00:00+00:00",
          "2022-01-03T05:00:00+00:00",
          "2022-01-04T05:00:00+00:00",
          "2022-01-05T05:00:00+00:00",
          "2022-01-06T05:00:00+00:00",
          "2022-01-07T05:00:00+00:00",
          "2022-01-10T05:00:00+00:00",
          "2022-01-11T05:00:00+00:00",
          "2022-01-12T05:00:00+00:00",
          "2022-01-13T05:00:00+00:00",
          "2022-01-14T05:00:00+00:00",
          "2022-01-18T05:00:00+00:00",
          "2022-01-19T05:00:00+00:00",
          "2022-01-20T05:00:00+00:00",
          "2022-01-21T05:00:00+00:00",
          "2022-01-24T05:00:00+00:00",
          "2022-01-25T05:00:00+00:00",
          "2022-01-26T05:00:00+00:00",
          "2022-01-27T05:00:00+00:00",
          "2022-01-28T05:00:00+00:00",
          "2022-01-31T05:00:00+00:00",
          "2022-02-01T05:00:00+00:00",
          "2022-02-02T05:00:00+00:00",
          "2022-02-03T05:00:00+00:00",
          "2022-02-04T05:00:00+00:00",
          "2022-02-07T05:00:00+00:00",
          "2022-02-08T05:00:00+00:00",
          "2022-02-09T05:00:00+00:00",
          "2022-02-10T05:00:00+00:00",
          "2022-02-11T05:00:00+00:00",
          "2022-02-14T05:00:00+00:00",
          "2022-02-15T05:00:00+00:00",
          "2022-02-16T05:00:00+00:00",
          "2022-02-17T05:00:00+00:00",
          "2022-02-18T05:00:00+00:00",
          "2022-02-22T05:00:00+00:00",
          "2022-02-23T05:00:00+00:00",
          "2022-02-24T05:00:00+00:00",
          "2022-02-25T05:00:00+00:00",
          "2022-02-28T05:00:00+00:00",
          "2022-03-01T05:00:00+00:00",
          "2022-03-02T05:00:00+00:00",
          "2022-03-03T05:00:00+00:00",
          "2022-03-04T05:00:00+00:00",
          "2022-03-07T05:00:00+00:00",
          "2022-03-08T05:00:00+00:00",
          "2022-03-09T05:00:00+00:00",
          "2022-03-10T05:00:00+00:00",
          "2022-03-11T05:00:00+00:00",
          "2022-03-14T04:00:00+00:00",
          "2022-03-15T04:00:00+00:00",
          "2022-03-16T04:00:00+00:00",
          "2022-03-17T04:00:00+00:00",
          "2022-03-18T04:00:00+00:00",
          "2022-03-21T04:00:00+00:00",
          "2022-03-22T04:00:00+00:00",
          "2022-03-23T04:00:00+00:00",
          "2022-03-24T04:00:00+00:00",
          "2022-03-25T04:00:00+00:00",
          "2022-03-28T04:00:00+00:00",
          "2022-03-29T04:00:00+00:00",
          "2022-03-30T04:00:00+00:00",
          "2022-03-31T04:00:00+00:00",
          "2022-04-01T04:00:00+00:00",
          "2022-04-04T04:00:00+00:00",
          "2022-04-05T04:00:00+00:00",
          "2022-04-06T04:00:00+00:00",
          "2022-04-07T04:00:00+00:00",
          "2022-04-08T04:00:00+00:00",
          "2022-04-11T04:00:00+00:00",
          "2022-04-12T04:00:00+00:00",
          "2022-04-13T04:00:00+00:00",
          "2022-04-14T04:00:00+00:00",
          "2022-04-18T04:00:00+00:00",
          "2022-04-19T04:00:00+00:00",
          "2022-04-20T04:00:00+00:00",
          "2022-04-21T04:00:00+00:00",
          "2022-04-22T04:00:00+00:00",
          "2022-04-25T04:00:00+00:00",
          "2022-04-26T04:00:00+00:00",
          "2022-04-27T04:00:00+00:00",
          "2022-04-28T04:00:00+00:00",
          "2022-04-29T04:00:00+00:00",
          "2022-05-02T04:00:00+00:00",
          "2022-05-03T04:00:00+00:00",
          "2022-05-04T04:00:00+00:00",
          "2022-05-05T04:00:00+00:00",
          "2022-05-06T04:00:00+00:00",
          "2022-05-09T04:00:00+00:00",
          "2022-05-10T04:00:00+00:00",
          "2022-05-11T04:00:00+00:00",
          "2022-05-12T04:00:00+00:00",
          "2022-05-13T04:00:00+00:00",
          "2022-05-16T04:00:00+00:00",
          "2022-05-17T04:00:00+00:00",
          "2022-05-18T04:00:00+00:00",
          "2022-05-19T04:00:00+00:00",
          "2022-05-20T04:00:00+00:00",
          "2022-05-23T04:00:00+00:00",
          "2022-05-24T04:00:00+00:00",
          "2022-05-25T04:00:00+00:00",
          "2022-05-26T04:00:00+00:00",
          "2022-05-27T04:00:00+00:00",
          "2022-05-31T04:00:00+00:00",
          "2022-06-01T04:00:00+00:00",
          "2022-06-02T04:00:00+00:00",
          "2022-06-03T04:00:00+00:00",
          "2022-06-06T04:00:00+00:00",
          "2022-06-07T04:00:00+00:00",
          "2022-06-08T04:00:00+00:00",
          "2022-06-09T04:00:00+00:00",
          "2022-06-10T04:00:00+00:00",
          "2022-06-13T04:00:00+00:00",
          "2022-06-14T04:00:00+00:00",
          "2022-06-15T04:00:00+00:00",
          "2022-06-16T04:00:00+00:00",
          "2022-06-17T04:00:00+00:00",
          "2022-06-21T04:00:00+00:00",
          "2022-06-22T04:00:00+00:00",
          "2022-06-23T04:00:00+00:00",
          "2022-06-24T04:00:00+00:00",
          "2022-06-27T04:00:00+00:00",
          "2022-06-28T04:00:00+00:00",
          "2022-06-29T04:00:00+00:00",
          "2022-06-30T04:00:00+00:00",
          "2022-07-01T04:00:00+00:00",
          "2022-07-05T04:00:00+00:00",
          "2022-07-06T04:00:00+00:00",
          "2022-07-07T04:00:00+00:00",
          "2022-07-08T04:00:00+00:00",
          "2022-07-11T04:00:00+00:00",
          "2022-07-12T04:00:00+00:00",
          "2022-07-13T04:00:00+00:00",
          "2022-07-14T04:00:00+00:00",
          "2022-07-15T04:00:00+00:00",
          "2022-07-18T04:00:00+00:00",
          "2022-07-19T04:00:00+00:00",
          "2022-07-20T04:00:00+00:00",
          "2022-07-21T04:00:00+00:00",
          "2022-07-22T04:00:00+00:00",
          "2022-07-25T04:00:00+00:00",
          "2022-07-26T04:00:00+00:00",
          "2022-07-27T04:00:00+00:00",
          "2022-07-28T04:00:00+00:00",
          "2022-07-29T04:00:00+00:00",
          "2022-08-01T04:00:00+00:00",
          "2022-08-02T04:00:00+00:00",
          "2022-08-03T04:00:00+00:00",
          "2022-08-04T04:00:00+00:00",
          "2022-08-05T04:00:00+00:00",
          "2022-08-08T04:00:00+00:00",
          "2022-08-09T04:00:00+00:00",
          "2022-08-10T04:00:00+00:00",
          "2022-08-11T04:00:00+00:00",
          "2022-08-12T04:00:00+00:00",
          "2022-08-15T04:00:00+00:00",
          "2022-08-16T04:00:00+00:00",
          "2022-08-17T04:00:00+00:00",
          "2022-08-18T04:00:00+00:00",
          "2022-08-19T04:00:00+00:00",
          "2022-08-22T04:00:00+00:00",
          "2022-08-23T04:00:00+00:00",
          "2022-08-24T04:00:00+00:00",
          "2022-08-25T04:00:00+00:00",
          "2022-08-26T04:00:00+00:00",
          "2022-08-29T04:00:00+00:00",
          "2022-08-30T04:00:00+00:00",
          "2022-08-31T04:00:00+00:00",
          "2022-09-01T04:00:00+00:00",
          "2022-09-02T04:00:00+00:00",
          "2022-09-06T04:00:00+00:00",
          "2022-09-07T04:00:00+00:00",
          "2022-09-08T04:00:00+00:00",
          "2022-09-09T04:00:00+00:00",
          "2022-09-12T04:00:00+00:00",
          "2022-09-13T04:00:00+00:00",
          "2022-09-14T04:00:00+00:00",
          "2022-09-15T04:00:00+00:00",
          "2022-09-16T04:00:00+00:00",
          "2022-09-19T04:00:00+00:00",
          "2022-09-20T04:00:00+00:00"
         ],
         "yaxis": "y"
        }
       ],
       "layout": {
        "autosize": true,
        "legend": {
         "tracegroupgap": 0
        },
        "margin": {
         "t": 60
        },
        "template": {
         "data": {
          "bar": [
           {
            "error_x": {
             "color": "#2a3f5f"
            },
            "error_y": {
             "color": "#2a3f5f"
            },
            "marker": {
             "line": {
              "color": "#E5ECF6",
              "width": 0.5
             },
             "pattern": {
              "fillmode": "overlay",
              "size": 10,
              "solidity": 0.2
             }
            },
            "type": "bar"
           }
          ],
          "barpolar": [
           {
            "marker": {
             "line": {
              "color": "#E5ECF6",
              "width": 0.5
             },
             "pattern": {
              "fillmode": "overlay",
              "size": 10,
              "solidity": 0.2
             }
            },
            "type": "barpolar"
           }
          ],
          "carpet": [
           {
            "aaxis": {
             "endlinecolor": "#2a3f5f",
             "gridcolor": "white",
             "linecolor": "white",
             "minorgridcolor": "white",
             "startlinecolor": "#2a3f5f"
            },
            "baxis": {
             "endlinecolor": "#2a3f5f",
             "gridcolor": "white",
             "linecolor": "white",
             "minorgridcolor": "white",
             "startlinecolor": "#2a3f5f"
            },
            "type": "carpet"
           }
          ],
          "choropleth": [
           {
            "colorbar": {
             "outlinewidth": 0,
             "ticks": ""
            },
            "type": "choropleth"
           }
          ],
          "contour": [
           {
            "colorbar": {
             "outlinewidth": 0,
             "ticks": ""
            },
            "colorscale": [
             [
              0,
              "#0d0887"
             ],
             [
              0.1111111111111111,
              "#46039f"
             ],
             [
              0.2222222222222222,
              "#7201a8"
             ],
             [
              0.3333333333333333,
              "#9c179e"
             ],
             [
              0.4444444444444444,
              "#bd3786"
             ],
             [
              0.5555555555555556,
              "#d8576b"
             ],
             [
              0.6666666666666666,
              "#ed7953"
             ],
             [
              0.7777777777777778,
              "#fb9f3a"
             ],
             [
              0.8888888888888888,
              "#fdca26"
             ],
             [
              1,
              "#f0f921"
             ]
            ],
            "type": "contour"
           }
          ],
          "contourcarpet": [
           {
            "colorbar": {
             "outlinewidth": 0,
             "ticks": ""
            },
            "type": "contourcarpet"
           }
          ],
          "heatmap": [
           {
            "colorbar": {
             "outlinewidth": 0,
             "ticks": ""
            },
            "colorscale": [
             [
              0,
              "#0d0887"
             ],
             [
              0.1111111111111111,
              "#46039f"
             ],
             [
              0.2222222222222222,
              "#7201a8"
             ],
             [
              0.3333333333333333,
              "#9c179e"
             ],
             [
              0.4444444444444444,
              "#bd3786"
             ],
             [
              0.5555555555555556,
              "#d8576b"
             ],
             [
              0.6666666666666666,
              "#ed7953"
             ],
             [
              0.7777777777777778,
              "#fb9f3a"
             ],
             [
              0.8888888888888888,
              "#fdca26"
             ],
             [
              1,
              "#f0f921"
             ]
            ],
            "type": "heatmap"
           }
          ],
          "heatmapgl": [
           {
            "colorbar": {
             "outlinewidth": 0,
             "ticks": ""
            },
            "colorscale": [
             [
              0,
              "#0d0887"
             ],
             [
              0.1111111111111111,
              "#46039f"
             ],
             [
              0.2222222222222222,
              "#7201a8"
             ],
             [
              0.3333333333333333,
              "#9c179e"
             ],
             [
              0.4444444444444444,
              "#bd3786"
             ],
             [
              0.5555555555555556,
              "#d8576b"
             ],
             [
              0.6666666666666666,
              "#ed7953"
             ],
             [
              0.7777777777777778,
              "#fb9f3a"
             ],
             [
              0.8888888888888888,
              "#fdca26"
             ],
             [
              1,
              "#f0f921"
             ]
            ],
            "type": "heatmapgl"
           }
          ],
          "histogram": [
           {
            "marker": {
             "pattern": {
              "fillmode": "overlay",
              "size": 10,
              "solidity": 0.2
             }
            },
            "type": "histogram"
           }
          ],
          "histogram2d": [
           {
            "colorbar": {
             "outlinewidth": 0,
             "ticks": ""
            },
            "colorscale": [
             [
              0,
              "#0d0887"
             ],
             [
              0.1111111111111111,
              "#46039f"
             ],
             [
              0.2222222222222222,
              "#7201a8"
             ],
             [
              0.3333333333333333,
              "#9c179e"
             ],
             [
              0.4444444444444444,
              "#bd3786"
             ],
             [
              0.5555555555555556,
              "#d8576b"
             ],
             [
              0.6666666666666666,
              "#ed7953"
             ],
             [
              0.7777777777777778,
              "#fb9f3a"
             ],
             [
              0.8888888888888888,
              "#fdca26"
             ],
             [
              1,
              "#f0f921"
             ]
            ],
            "type": "histogram2d"
           }
          ],
          "histogram2dcontour": [
           {
            "colorbar": {
             "outlinewidth": 0,
             "ticks": ""
            },
            "colorscale": [
             [
              0,
              "#0d0887"
             ],
             [
              0.1111111111111111,
              "#46039f"
             ],
             [
              0.2222222222222222,
              "#7201a8"
             ],
             [
              0.3333333333333333,
              "#9c179e"
             ],
             [
              0.4444444444444444,
              "#bd3786"
             ],
             [
              0.5555555555555556,
              "#d8576b"
             ],
             [
              0.6666666666666666,
              "#ed7953"
             ],
             [
              0.7777777777777778,
              "#fb9f3a"
             ],
             [
              0.8888888888888888,
              "#fdca26"
             ],
             [
              1,
              "#f0f921"
             ]
            ],
            "type": "histogram2dcontour"
           }
          ],
          "mesh3d": [
           {
            "colorbar": {
             "outlinewidth": 0,
             "ticks": ""
            },
            "type": "mesh3d"
           }
          ],
          "parcoords": [
           {
            "line": {
             "colorbar": {
              "outlinewidth": 0,
              "ticks": ""
             }
            },
            "type": "parcoords"
           }
          ],
          "pie": [
           {
            "automargin": true,
            "type": "pie"
           }
          ],
          "scatter": [
           {
            "marker": {
             "colorbar": {
              "outlinewidth": 0,
              "ticks": ""
             }
            },
            "type": "scatter"
           }
          ],
          "scatter3d": [
           {
            "line": {
             "colorbar": {
              "outlinewidth": 0,
              "ticks": ""
             }
            },
            "marker": {
             "colorbar": {
              "outlinewidth": 0,
              "ticks": ""
             }
            },
            "type": "scatter3d"
           }
          ],
          "scattercarpet": [
           {
            "marker": {
             "colorbar": {
              "outlinewidth": 0,
              "ticks": ""
             }
            },
            "type": "scattercarpet"
           }
          ],
          "scattergeo": [
           {
            "marker": {
             "colorbar": {
              "outlinewidth": 0,
              "ticks": ""
             }
            },
            "type": "scattergeo"
           }
          ],
          "scattergl": [
           {
            "marker": {
             "colorbar": {
              "outlinewidth": 0,
              "ticks": ""
             }
            },
            "type": "scattergl"
           }
          ],
          "scattermapbox": [
           {
            "marker": {
             "colorbar": {
              "outlinewidth": 0,
              "ticks": ""
             }
            },
            "type": "scattermapbox"
           }
          ],
          "scatterpolar": [
           {
            "marker": {
             "colorbar": {
              "outlinewidth": 0,
              "ticks": ""
             }
            },
            "type": "scatterpolar"
           }
          ],
          "scatterpolargl": [
           {
            "marker": {
             "colorbar": {
              "outlinewidth": 0,
              "ticks": ""
             }
            },
            "type": "scatterpolargl"
           }
          ],
          "scatterternary": [
           {
            "marker": {
             "colorbar": {
              "outlinewidth": 0,
              "ticks": ""
             }
            },
            "type": "scatterternary"
           }
          ],
          "surface": [
           {
            "colorbar": {
             "outlinewidth": 0,
             "ticks": ""
            },
            "colorscale": [
             [
              0,
              "#0d0887"
             ],
             [
              0.1111111111111111,
              "#46039f"
             ],
             [
              0.2222222222222222,
              "#7201a8"
             ],
             [
              0.3333333333333333,
              "#9c179e"
             ],
             [
              0.4444444444444444,
              "#bd3786"
             ],
             [
              0.5555555555555556,
              "#d8576b"
             ],
             [
              0.6666666666666666,
              "#ed7953"
             ],
             [
              0.7777777777777778,
              "#fb9f3a"
             ],
             [
              0.8888888888888888,
              "#fdca26"
             ],
             [
              1,
              "#f0f921"
             ]
            ],
            "type": "surface"
           }
          ],
          "table": [
           {
            "cells": {
             "fill": {
              "color": "#EBF0F8"
             },
             "line": {
              "color": "white"
             }
            },
            "header": {
             "fill": {
              "color": "#C8D4E3"
             },
             "line": {
              "color": "white"
             }
            },
            "type": "table"
           }
          ]
         },
         "layout": {
          "annotationdefaults": {
           "arrowcolor": "#2a3f5f",
           "arrowhead": 0,
           "arrowwidth": 1
          },
          "autotypenumbers": "strict",
          "coloraxis": {
           "colorbar": {
            "outlinewidth": 0,
            "ticks": ""
           }
          },
          "colorscale": {
           "diverging": [
            [
             0,
             "#8e0152"
            ],
            [
             0.1,
             "#c51b7d"
            ],
            [
             0.2,
             "#de77ae"
            ],
            [
             0.3,
             "#f1b6da"
            ],
            [
             0.4,
             "#fde0ef"
            ],
            [
             0.5,
             "#f7f7f7"
            ],
            [
             0.6,
             "#e6f5d0"
            ],
            [
             0.7,
             "#b8e186"
            ],
            [
             0.8,
             "#7fbc41"
            ],
            [
             0.9,
             "#4d9221"
            ],
            [
             1,
             "#276419"
            ]
           ],
           "sequential": [
            [
             0,
             "#0d0887"
            ],
            [
             0.1111111111111111,
             "#46039f"
            ],
            [
             0.2222222222222222,
             "#7201a8"
            ],
            [
             0.3333333333333333,
             "#9c179e"
            ],
            [
             0.4444444444444444,
             "#bd3786"
            ],
            [
             0.5555555555555556,
             "#d8576b"
            ],
            [
             0.6666666666666666,
             "#ed7953"
            ],
            [
             0.7777777777777778,
             "#fb9f3a"
            ],
            [
             0.8888888888888888,
             "#fdca26"
            ],
            [
             1,
             "#f0f921"
            ]
           ],
           "sequentialminus": [
            [
             0,
             "#0d0887"
            ],
            [
             0.1111111111111111,
             "#46039f"
            ],
            [
             0.2222222222222222,
             "#7201a8"
            ],
            [
             0.3333333333333333,
             "#9c179e"
            ],
            [
             0.4444444444444444,
             "#bd3786"
            ],
            [
             0.5555555555555556,
             "#d8576b"
            ],
            [
             0.6666666666666666,
             "#ed7953"
            ],
            [
             0.7777777777777778,
             "#fb9f3a"
            ],
            [
             0.8888888888888888,
             "#fdca26"
            ],
            [
             1,
             "#f0f921"
            ]
           ]
          },
          "colorway": [
           "#636efa",
           "#EF553B",
           "#00cc96",
           "#ab63fa",
           "#FFA15A",
           "#19d3f3",
           "#FF6692",
           "#B6E880",
           "#FF97FF",
           "#FECB52"
          ],
          "font": {
           "color": "#2a3f5f"
          },
          "geo": {
           "bgcolor": "white",
           "lakecolor": "white",
           "landcolor": "#E5ECF6",
           "showlakes": true,
           "showland": true,
           "subunitcolor": "white"
          },
          "hoverlabel": {
           "align": "left"
          },
          "hovermode": "closest",
          "mapbox": {
           "style": "light"
          },
          "paper_bgcolor": "white",
          "plot_bgcolor": "#E5ECF6",
          "polar": {
           "angularaxis": {
            "gridcolor": "white",
            "linecolor": "white",
            "ticks": ""
           },
           "bgcolor": "#E5ECF6",
           "radialaxis": {
            "gridcolor": "white",
            "linecolor": "white",
            "ticks": ""
           }
          },
          "scene": {
           "xaxis": {
            "backgroundcolor": "#E5ECF6",
            "gridcolor": "white",
            "gridwidth": 2,
            "linecolor": "white",
            "showbackground": true,
            "ticks": "",
            "zerolinecolor": "white"
           },
           "yaxis": {
            "backgroundcolor": "#E5ECF6",
            "gridcolor": "white",
            "gridwidth": 2,
            "linecolor": "white",
            "showbackground": true,
            "ticks": "",
            "zerolinecolor": "white"
           },
           "zaxis": {
            "backgroundcolor": "#E5ECF6",
            "gridcolor": "white",
            "gridwidth": 2,
            "linecolor": "white",
            "showbackground": true,
            "ticks": "",
            "zerolinecolor": "white"
           }
          },
          "shapedefaults": {
           "line": {
            "color": "#2a3f5f"
           }
          },
          "ternary": {
           "aaxis": {
            "gridcolor": "white",
            "linecolor": "white",
            "ticks": ""
           },
           "baxis": {
            "gridcolor": "white",
            "linecolor": "white",
            "ticks": ""
           },
           "bgcolor": "#E5ECF6",
           "caxis": {
            "gridcolor": "white",
            "linecolor": "white",
            "ticks": ""
           }
          },
          "title": {
           "x": 0.05
          },
          "xaxis": {
           "automargin": true,
           "gridcolor": "white",
           "linecolor": "white",
           "ticks": "",
           "title": {
            "standoff": 15
           },
           "zerolinecolor": "white",
           "zerolinewidth": 2
          },
          "yaxis": {
           "automargin": true,
           "gridcolor": "white",
           "linecolor": "white",
           "ticks": "",
           "title": {
            "standoff": 15
           },
           "zerolinecolor": "white",
           "zerolinewidth": 2
          }
         }
        },
        "xaxis": {
         "anchor": "y",
         "autorange": true,
         "domain": [
          0,
          1
         ],
         "range": [
          -0.14584419175059934,
          0.10148142288045413
         ],
         "title": {
          "text": "x"
         },
         "type": "linear"
        },
        "yaxis": {
         "anchor": "x",
         "autorange": true,
         "domain": [
          0,
          1
         ],
         "range": [
          "2021-04-28 13:02:21.7323",
          "2022-10-26 18:57:38.2677"
         ],
         "title": {
          "text": "timestamp"
         },
         "type": "date"
        }
       }
      },
      "image/png": "[encoded data removed]",
      "text/html": [
       "<div>                            <div id=\"3fbdbf13-1e5e-4c0f-ba6b-988b42681b5d\" class=\"plotly-graph-div\" style=\"height:525px; width:100%;\"></div>            <script type=\"text/javascript\">                require([\"plotly\"], function(Plotly) {                    window.PLOTLYENV=window.PLOTLYENV || {};                                    if (document.getElementById(\"3fbdbf13-1e5e-4c0f-ba6b-988b42681b5d\")) {                    Plotly.newPlot(                        \"3fbdbf13-1e5e-4c0f-ba6b-988b42681b5d\",                        [{\"hovertemplate\":\"x=%{x}<br>timestamp=%{y}<extra></extra>\",\"legendgroup\":\"\",\"marker\":{\"color\":\"#636efa\",\"symbol\":\"circle\"},\"mode\":\"markers\",\"name\":\"\",\"orientation\":\"h\",\"showlegend\":false,\"x\":[0.005488319729805902,0.0008397480755772957,-0.022094811914417534,0.0008580008580005849,0.01528789827118171,-0.010554461018857264,-0.0068269094012232134,-0.01074036946870971,-0.009119861030688958,-0.06983199415631847,-0.01649128317889126,0.012935164484190409,-0.008040359451363721,-0.004132231404958775,-0.005745292052345974,0.0060995184590690865,-0.0004786215698787677,-0.0011173184357542443,0.012783636944710741,-0.008204480908804102,0.00795418390073177,0.008364898989899006,-0.00406949444357485,-0.013672795851013775,0.019439133205863657,-0.012347608627696127,0.0028485519860736996,-0.00015780337699222713,0.002051767676767735,-0.027720900929280257,-0.01684756196338899,-0.004119294776734228,-0.001323626737260053,-0.00248508946322068,-0.0016608536787908745,0.004658126767592696,0.015399900645802322,0.009132420091324311,0.013574660633484115,0.0015943877551021224,-0.013371537726838634,0.0108099386899001,-0.01260973663208298,-0.009860976398318733,-0.023346938775510195,-0.01638248077566029,-0.013426240652617327,0.020844099913867264,-0.015356058049274313,0.008397600685518425,0.0006798096532971698,-0.00033967391304357,-0.033129459734964395,-0.006852925672113708,-0.0030077848549185937,0.025377107364684903,-0.005192107995846351,-0.009916492693110679,-0.004920049200491938,0.027547236447112766,-0.011685856676404871,0.008346374543557689,-0.0018968787722021263,0.014340013821700026,0.01635155850792036,-0.023294788000670308,-0.012354152367879179,-0.004343293954134797,-0.005583667771767553,0.0008773469029654812,0.0028050490883591017,0.008916083916083783,-0.03950788424883034,-0.003788562150460084,-0.021912350597609542,0.009257544899092807,0.0025683360851220804,-0.010978956999085132,-0.0033302497687326404,0.0005568962316688797,0.01261595547309824,-0.015939904727006238,0.010984919009495275,-0.013627992633517438,0.020724421209858068,-0.015364916773367487,0.013003901170351106,0.0014670823399962618,-0.005493499359091714,-0.0020254096851408665,0.010701107011070077,0.029025191675793982,0.02483590562355875,-0.012809416652241667,-0.011397510082412743,0.01081943951755937,0.002982979470082414,0.0003498950314906324,0.0075201119272472194,0.005207429265752461,-0.003626316698324916,-0.002772963604852796,-0.04553354188390679,-0.016751638747268816,0.005555555555555536,0.007550644567219322,0.007494059586912849,-0.004898403483309055,0.02752962625341837,-0.0030163236337829025,0.009966186154120038,0.025022026431718025,0.01168987450575898,-0.0020390824129142837,0.004086497531074373,-0.014074953366118303,-0.0032679738562091387,-0.013459879206212277,-0.01084484869686908,-0.013085764809902645,-0.005733739473212651,-0.00036042530185620425,0.008473048494681779,-0.009653199856989647,-0.008664259927797735,-0.019118718135469837,-0.011137924633376595,0.026281208935611033,0.02121821840131699,0.010030449579079281,-0.0005320092214932126,-0.002661462029808326,-0.001956947162426559,0.019073083778966105,-0.01749169144656293,-0.034538009613672815,0.08795869444956672,0.004067796610169427,-0.008946657663740698,-0.009027422926247697,0.0055001718803713295,0.017606837606837678,0.010918864438098419,0.0018278497839814278,0.005473544534748687,0.016001319696469896,0.006981652865724941,-0.01676878426314099,-0.009019350606756293,-0.001654807214959475,-0.02751533233880321,0.012953809442645348,0.016826518593302975,0.007943074631805436,0.010014775898867345,-0.0032509752925877766,-0.0016307893020222064,0.0004900359359687467,0.06040816326530618,-0.017090069284064646,-0.011748120300751896,-0.00015850372483761088,0.00332910589727331,-0.025280455048190875,-0.01669638515156424,-0.013188262446422683,0.021884396926161065,0.0026156612718652994,0.012718082504483919,-0.0049911447431976175,-0.014077669902912593,0.040045954373871595,0.0029982641628532036,-0.006450597860289564,-0.04148851939825804,0.05501404262349241,0.0076730347635451945,-0.01662781662781654,0.015802781289506962,0.05398257622899805,-0.0011808118081180208,-0.007388798581350664,0.01607860652076809,-0.022417582417582405,0.017685851318944845,-0.025036818851251863,0.04244712990936561,0.011302709752209816,0.012752543344318745,0.050933786078098287,0.04806138933764137,-0.003082851637764894,-0.02113129751320708,0.01724364880874041,-0.005046583850931707,-0.04096761607491228,-0.005017629509085797,-0.010358457135068888,0.009640545379424381,0.008866457509207448,0.031638723634397126,-0.0035386631716906036,0.037879784295672625,-0.008617412241794353,0.0092036303208487,-0.010259658011399608,0.005246992577425003,0.017950350095480516,-0.0063781890945471265,0.04191315292636877,-0.018482725295965174,-0.017107692307692268,-0.004007012271475041,0.01873271310032676,0.013451807972356011,-0.009498295177788663,0.014261126137201874,0.021818181818181737,0.005575326215895515,0.007667807007196048,-0.029969562163427832,-0.0032585083272990145,-0.06695725874803249,-0.0329613288346744,-0.025630703166935054,-0.006610659688748188,0.0,0.015943435463745992,-0.005867903930131146,-0.007412491420727418,-0.0009680542110359625,0.01591915836101898,-0.014307126311486562,0.007326513685374625,-0.05420612048854123,-0.009431224608241529,0.002197158341877836,-0.044869921075708974,-0.0015302218821727775,0.0030651340996168397,0.0007639419404124048,-0.024732824427480926,0.03490920475892301,0.016336409015277553,0.003571960113112116,0.0235800088981164,0.007534048101999646,-0.011935576646534551,0.0,-0.012516373162567263,-0.00854826823876198,0.02259551062880938,-0.014100886756796216,0.0005897965202006361,0.007662835249041988,-0.018426440479672235,-0.03784266984505369,0.035150201300712336,-0.03290949887808514,-0.024129930394431565,-0.003645585671263385,0.029430480432707462,-0.014680883943749001,0.02211417816813044,-0.009053245358293771,-0.0266336327036234,0.02099904549793208,-0.005453412277968361,-0.013629954566818037,-0.015406607369758518,-0.03742539119212773,0.02513826043237799,-0.023867909105770857,-0.004354379500921102,0.007064760302775364,-0.008518456656088191,-0.00960242587601079,-0.014458241197482624,0.004314808422505978,-0.054992266712493465,-0.004728132387706974,0.0014617211766856375,-0.002919175332968482,-0.042817932296431827,-0.0042056968074937195,-0.013438279900172878,-0.13232146331971195,0.03476115721013673,-0.011486779367143485,0.004385003288752465,-0.011569526304300415,-0.0075088339222615375,-0.002225189141076833,-0.009812667261373864,0.01981981981981984,-0.011263250883392195,0.00022336385972754336,0.011612326931665917,0.009713024282560712,-0.00961958898119819,0.02759381898454749,-0.01310418904403865,0.002394427514148978,-0.02497285559174811,-0.0055679287305122616,-0.02508398656215005,0.006662072134160368,0.016659059790050224,0.0056116722783390305,0.007589285714285854,-0.042534337616304874,-0.00948634891254041,-0.014249007241298739,-0.019905213270142275,-0.01088007736943919,0.018577364947445663,0.0009599232061434648,0.015344042196115959,0.0009445100354190661,0.01840056617126673,0.018068102849200907,-0.02093287827076229,-0.002323960027887595,-0.012345679012345734,0.030896226415094485,0.012811713566689642,-0.03320533092387634],\"xaxis\":\"x\",\"y\":[\"2021-06-04T04:00:00+00:00\",\"2021-06-07T04:00:00+00:00\",\"2021-06-08T04:00:00+00:00\",\"2021-06-09T04:00:00+00:00\",\"2021-06-10T04:00:00+00:00\",\"2021-06-11T04:00:00+00:00\",\"2021-06-14T04:00:00+00:00\",\"2021-06-15T04:00:00+00:00\",\"2021-06-16T04:00:00+00:00\",\"2021-06-17T04:00:00+00:00\",\"2021-06-18T04:00:00+00:00\",\"2021-06-21T04:00:00+00:00\",\"2021-06-22T04:00:00+00:00\",\"2021-06-23T04:00:00+00:00\",\"2021-06-24T04:00:00+00:00\",\"2021-06-25T04:00:00+00:00\",\"2021-06-28T04:00:00+00:00\",\"2021-06-29T04:00:00+00:00\",\"2021-06-30T04:00:00+00:00\",\"2021-07-01T04:00:00+00:00\",\"2021-07-02T04:00:00+00:00\",\"2021-07-06T04:00:00+00:00\",\"2021-07-07T04:00:00+00:00\",\"2021-07-08T04:00:00+00:00\",\"2021-07-09T04:00:00+00:00\",\"2021-07-12T04:00:00+00:00\",\"2021-07-13T04:00:00+00:00\",\"2021-07-14T04:00:00+00:00\",\"2021-07-15T04:00:00+00:00\",\"2021-07-16T04:00:00+00:00\",\"2021-07-19T04:00:00+00:00\",\"2021-07-20T04:00:00+00:00\",\"2021-07-21T04:00:00+00:00\",\"2021-07-22T04:00:00+00:00\",\"2021-07-23T04:00:00+00:00\",\"2021-07-26T04:00:00+00:00\",\"2021-07-27T04:00:00+00:00\",\"2021-07-28T04:00:00+00:00\",\"2021-07-29T04:00:00+00:00\",\"2021-07-30T04:00:00+00:00\",\"2021-08-02T04:00:00+00:00\",\"2021-08-03T04:00:00+00:00\",\"2021-08-04T04:00:00+00:00\",\"2021-08-05T04:00:00+00:00\",\"2021-08-06T04:00:00+00:00\",\"2021-08-09T04:00:00+00:00\",\"2021-08-10T04:00:00+00:00\",\"2021-08-11T04:00:00+00:00\",\"2021-08-12T04:00:00+00:00\",\"2021-08-13T04:00:00+00:00\",\"2021-08-16T04:00:00+00:00\",\"2021-08-17T04:00:00+00:00\",\"2021-08-18T04:00:00+00:00\",\"2021-08-19T04:00:00+00:00\",\"2021-08-20T04:00:00+00:00\",\"2021-08-23T04:00:00+00:00\",\"2021-08-24T04:00:00+00:00\",\"2021-08-25T04:00:00+00:00\",\"2021-08-26T04:00:00+00:00\",\"2021-08-27T04:00:00+00:00\",\"2021-08-30T04:00:00+00:00\",\"2021-08-31T04:00:00+00:00\",\"2021-09-01T04:00:00+00:00\",\"2021-09-02T04:00:00+00:00\",\"2021-09-03T04:00:00+00:00\",\"2021-09-07T04:00:00+00:00\",\"2021-09-08T04:00:00+00:00\",\"2021-09-09T04:00:00+00:00\",\"2021-09-10T04:00:00+00:00\",\"2021-09-13T04:00:00+00:00\",\"2021-09-14T04:00:00+00:00\",\"2021-09-15T04:00:00+00:00\",\"2021-09-16T04:00:00+00:00\",\"2021-09-17T04:00:00+00:00\",\"2021-09-20T04:00:00+00:00\",\"2021-09-21T04:00:00+00:00\",\"2021-09-22T04:00:00+00:00\",\"2021-09-23T04:00:00+00:00\",\"2021-09-24T04:00:00+00:00\",\"2021-09-27T04:00:00+00:00\",\"2021-09-28T04:00:00+00:00\",\"2021-09-29T04:00:00+00:00\",\"2021-09-30T04:00:00+00:00\",\"2021-10-01T04:00:00+00:00\",\"2021-10-04T04:00:00+00:00\",\"2021-10-05T04:00:00+00:00\",\"2021-10-06T04:00:00+00:00\",\"2021-10-07T04:00:00+00:00\",\"2021-10-08T04:00:00+00:00\",\"2021-10-11T04:00:00+00:00\",\"2021-10-12T04:00:00+00:00\",\"2021-10-13T04:00:00+00:00\",\"2021-10-14T04:00:00+00:00\",\"2021-10-15T04:00:00+00:00\",\"2021-10-18T04:00:00+00:00\",\"2021-10-19T04:00:00+00:00\",\"2021-10-20T04:00:00+00:00\",\"2021-10-21T04:00:00+00:00\",\"2021-10-22T04:00:00+00:00\",\"2021-10-25T04:00:00+00:00\",\"2021-10-26T04:00:00+00:00\",\"2021-10-27T04:00:00+00:00\",\"2021-10-28T04:00:00+00:00\",\"2021-10-29T04:00:00+00:00\",\"2021-11-01T04:00:00+00:00\",\"2021-11-02T04:00:00+00:00\",\"2021-11-03T04:00:00+00:00\",\"2021-11-04T04:00:00+00:00\",\"2021-11-05T04:00:00+00:00\",\"2021-11-08T05:00:00+00:00\",\"2021-11-09T05:00:00+00:00\",\"2021-11-10T05:00:00+00:00\",\"2021-11-11T05:00:00+00:00\",\"2021-11-12T05:00:00+00:00\",\"2021-11-15T05:00:00+00:00\",\"2021-11-16T05:00:00+00:00\",\"2021-11-17T05:00:00+00:00\",\"2021-11-18T05:00:00+00:00\",\"2021-11-19T05:00:00+00:00\",\"2021-11-22T05:00:00+00:00\",\"2021-11-23T05:00:00+00:00\",\"2021-11-24T05:00:00+00:00\",\"2021-11-26T05:00:00+00:00\",\"2021-11-29T05:00:00+00:00\",\"2021-11-30T05:00:00+00:00\",\"2021-12-01T05:00:00+00:00\",\"2021-12-02T05:00:00+00:00\",\"2021-12-03T05:00:00+00:00\",\"2021-12-06T05:00:00+00:00\",\"2021-12-07T05:00:00+00:00\",\"2021-12-08T05:00:00+00:00\",\"2021-12-09T05:00:00+00:00\",\"2021-12-10T05:00:00+00:00\",\"2021-12-13T05:00:00+00:00\",\"2021-12-14T05:00:00+00:00\",\"2021-12-15T05:00:00+00:00\",\"2021-12-16T05:00:00+00:00\",\"2021-12-17T05:00:00+00:00\",\"2021-12-20T05:00:00+00:00\",\"2021-12-21T05:00:00+00:00\",\"2021-12-22T05:00:00+00:00\",\"2021-12-23T05:00:00+00:00\",\"2021-12-27T05:00:00+00:00\",\"2021-12-28T05:00:00+00:00\",\"2021-12-29T05:00:00+00:00\",\"2021-12-30T05:00:00+00:00\",\"2021-12-31T05:00:00+00:00\",\"2022-01-03T05:00:00+00:00\",\"2022-01-04T05:00:00+00:00\",\"2022-01-05T05:00:00+00:00\",\"2022-01-06T05:00:00+00:00\",\"2022-01-07T05:00:00+00:00\",\"2022-01-10T05:00:00+00:00\",\"2022-01-11T05:00:00+00:00\",\"2022-01-12T05:00:00+00:00\",\"2022-01-13T05:00:00+00:00\",\"2022-01-14T05:00:00+00:00\",\"2022-01-18T05:00:00+00:00\",\"2022-01-19T05:00:00+00:00\",\"2022-01-20T05:00:00+00:00\",\"2022-01-21T05:00:00+00:00\",\"2022-01-24T05:00:00+00:00\",\"2022-01-25T05:00:00+00:00\",\"2022-01-26T05:00:00+00:00\",\"2022-01-27T05:00:00+00:00\",\"2022-01-28T05:00:00+00:00\",\"2022-01-31T05:00:00+00:00\",\"2022-02-01T05:00:00+00:00\",\"2022-02-02T05:00:00+00:00\",\"2022-02-03T05:00:00+00:00\",\"2022-02-04T05:00:00+00:00\",\"2022-02-07T05:00:00+00:00\",\"2022-02-08T05:00:00+00:00\",\"2022-02-09T05:00:00+00:00\",\"2022-02-10T05:00:00+00:00\",\"2022-02-11T05:00:00+00:00\",\"2022-02-14T05:00:00+00:00\",\"2022-02-15T05:00:00+00:00\",\"2022-02-16T05:00:00+00:00\",\"2022-02-17T05:00:00+00:00\",\"2022-02-18T05:00:00+00:00\",\"2022-02-22T05:00:00+00:00\",\"2022-02-23T05:00:00+00:00\",\"2022-02-24T05:00:00+00:00\",\"2022-02-25T05:00:00+00:00\",\"2022-02-28T05:00:00+00:00\",\"2022-03-01T05:00:00+00:00\",\"2022-03-02T05:00:00+00:00\",\"2022-03-03T05:00:00+00:00\",\"2022-03-04T05:00:00+00:00\",\"2022-03-07T05:00:00+00:00\",\"2022-03-08T05:00:00+00:00\",\"2022-03-09T05:00:00+00:00\",\"2022-03-10T05:00:00+00:00\",\"2022-03-11T05:00:00+00:00\",\"2022-03-14T04:00:00+00:00\",\"2022-03-15T04:00:00+00:00\",\"2022-03-16T04:00:00+00:00\",\"2022-03-17T04:00:00+00:00\",\"2022-03-18T04:00:00+00:00\",\"2022-03-21T04:00:00+00:00\",\"2022-03-22T04:00:00+00:00\",\"2022-03-23T04:00:00+00:00\",\"2022-03-24T04:00:00+00:00\",\"2022-03-25T04:00:00+00:00\",\"2022-03-28T04:00:00+00:00\",\"2022-03-29T04:00:00+00:00\",\"2022-03-30T04:00:00+00:00\",\"2022-03-31T04:00:00+00:00\",\"2022-04-01T04:00:00+00:00\",\"2022-04-04T04:00:00+00:00\",\"2022-04-05T04:00:00+00:00\",\"2022-04-06T04:00:00+00:00\",\"2022-04-07T04:00:00+00:00\",\"2022-04-08T04:00:00+00:00\",\"2022-04-11T04:00:00+00:00\",\"2022-04-12T04:00:00+00:00\",\"2022-04-13T04:00:00+00:00\",\"2022-04-14T04:00:00+00:00\",\"2022-04-18T04:00:00+00:00\",\"2022-04-19T04:00:00+00:00\",\"2022-04-20T04:00:00+00:00\",\"2022-04-21T04:00:00+00:00\",\"2022-04-22T04:00:00+00:00\",\"2022-04-25T04:00:00+00:00\",\"2022-04-26T04:00:00+00:00\",\"2022-04-27T04:00:00+00:00\",\"2022-04-28T04:00:00+00:00\",\"2022-04-29T04:00:00+00:00\",\"2022-05-02T04:00:00+00:00\",\"2022-05-03T04:00:00+00:00\",\"2022-05-04T04:00:00+00:00\",\"2022-05-05T04:00:00+00:00\",\"2022-05-06T04:00:00+00:00\",\"2022-05-09T04:00:00+00:00\",\"2022-05-10T04:00:00+00:00\",\"2022-05-11T04:00:00+00:00\",\"2022-05-12T04:00:00+00:00\",\"2022-05-13T04:00:00+00:00\",\"2022-05-16T04:00:00+00:00\",\"2022-05-17T04:00:00+00:00\",\"2022-05-18T04:00:00+00:00\",\"2022-05-19T04:00:00+00:00\",\"2022-05-20T04:00:00+00:00\",\"2022-05-23T04:00:00+00:00\",\"2022-05-24T04:00:00+00:00\",\"2022-05-25T04:00:00+00:00\",\"2022-05-26T04:00:00+00:00\",\"2022-05-27T04:00:00+00:00\",\"2022-05-31T04:00:00+00:00\",\"2022-06-01T04:00:00+00:00\",\"2022-06-02T04:00:00+00:00\",\"2022-06-03T04:00:00+00:00\",\"2022-06-06T04:00:00+00:00\",\"2022-06-07T04:00:00+00:00\",\"2022-06-08T04:00:00+00:00\",\"2022-06-09T04:00:00+00:00\",\"2022-06-10T04:00:00+00:00\",\"2022-06-13T04:00:00+00:00\",\"2022-06-14T04:00:00+00:00\",\"2022-06-15T04:00:00+00:00\",\"2022-06-16T04:00:00+00:00\",\"2022-06-17T04:00:00+00:00\",\"2022-06-21T04:00:00+00:00\",\"2022-06-22T04:00:00+00:00\",\"2022-06-23T04:00:00+00:00\",\"2022-06-24T04:00:00+00:00\",\"2022-06-27T04:00:00+00:00\",\"2022-06-28T04:00:00+00:00\",\"2022-06-29T04:00:00+00:00\",\"2022-06-30T04:00:00+00:00\",\"2022-07-01T04:00:00+00:00\",\"2022-07-05T04:00:00+00:00\",\"2022-07-06T04:00:00+00:00\",\"2022-07-07T04:00:00+00:00\",\"2022-07-08T04:00:00+00:00\",\"2022-07-11T04:00:00+00:00\",\"2022-07-12T04:00:00+00:00\",\"2022-07-13T04:00:00+00:00\",\"2022-07-14T04:00:00+00:00\",\"2022-07-15T04:00:00+00:00\",\"2022-07-18T04:00:00+00:00\",\"2022-07-19T04:00:00+00:00\",\"2022-07-20T04:00:00+00:00\",\"2022-07-21T04:00:00+00:00\",\"2022-07-22T04:00:00+00:00\",\"2022-07-25T04:00:00+00:00\",\"2022-07-26T04:00:00+00:00\",\"2022-07-27T04:00:00+00:00\",\"2022-07-28T04:00:00+00:00\",\"2022-07-29T04:00:00+00:00\",\"2022-08-01T04:00:00+00:00\",\"2022-08-02T04:00:00+00:00\",\"2022-08-03T04:00:00+00:00\",\"2022-08-04T04:00:00+00:00\",\"2022-08-05T04:00:00+00:00\",\"2022-08-08T04:00:00+00:00\",\"2022-08-09T04:00:00+00:00\",\"2022-08-10T04:00:00+00:00\",\"2022-08-11T04:00:00+00:00\",\"2022-08-12T04:00:00+00:00\",\"2022-08-15T04:00:00+00:00\",\"2022-08-16T04:00:00+00:00\",\"2022-08-17T04:00:00+00:00\",\"2022-08-18T04:00:00+00:00\",\"2022-08-19T04:00:00+00:00\",\"2022-08-22T04:00:00+00:00\",\"2022-08-23T04:00:00+00:00\",\"2022-08-24T04:00:00+00:00\",\"2022-08-25T04:00:00+00:00\",\"2022-08-26T04:00:00+00:00\",\"2022-08-29T04:00:00+00:00\",\"2022-08-30T04:00:00+00:00\",\"2022-08-31T04:00:00+00:00\",\"2022-09-01T04:00:00+00:00\",\"2022-09-02T04:00:00+00:00\",\"2022-09-06T04:00:00+00:00\",\"2022-09-07T04:00:00+00:00\",\"2022-09-08T04:00:00+00:00\",\"2022-09-09T04:00:00+00:00\",\"2022-09-12T04:00:00+00:00\",\"2022-09-13T04:00:00+00:00\",\"2022-09-14T04:00:00+00:00\",\"2022-09-15T04:00:00+00:00\",\"2022-09-16T04:00:00+00:00\",\"2022-09-19T04:00:00+00:00\",\"2022-09-20T04:00:00+00:00\"],\"yaxis\":\"y\",\"type\":\"scatter\"}],                        {\"template\":{\"data\":{\"bar\":[{\"error_x\":{\"color\":\"#2a3f5f\"},\"error_y\":{\"color\":\"#2a3f5f\"},\"marker\":{\"line\":{\"color\":\"#E5ECF6\",\"width\":0.5},\"pattern\":{\"fillmode\":\"overlay\",\"size\":10,\"solidity\":0.2}},\"type\":\"bar\"}],\"barpolar\":[{\"marker\":{\"line\":{\"color\":\"#E5ECF6\",\"width\":0.5},\"pattern\":{\"fillmode\":\"overlay\",\"size\":10,\"solidity\":0.2}},\"type\":\"barpolar\"}],\"carpet\":[{\"aaxis\":{\"endlinecolor\":\"#2a3f5f\",\"gridcolor\":\"white\",\"linecolor\":\"white\",\"minorgridcolor\":\"white\",\"startlinecolor\":\"#2a3f5f\"},\"baxis\":{\"endlinecolor\":\"#2a3f5f\",\"gridcolor\":\"white\",\"linecolor\":\"white\",\"minorgridcolor\":\"white\",\"startlinecolor\":\"#2a3f5f\"},\"type\":\"carpet\"}],\"choropleth\":[{\"colorbar\":{\"outlinewidth\":0,\"ticks\":\"\"},\"type\":\"choropleth\"}],\"contour\":[{\"colorbar\":{\"outlinewidth\":0,\"ticks\":\"\"},\"colorscale\":[[0.0,\"#0d0887\"],[0.1111111111111111,\"#46039f\"],[0.2222222222222222,\"#7201a8\"],[0.3333333333333333,\"#9c179e\"],[0.4444444444444444,\"#bd3786\"],[0.5555555555555556,\"#d8576b\"],[0.6666666666666666,\"#ed7953\"],[0.7777777777777778,\"#fb9f3a\"],[0.8888888888888888,\"#fdca26\"],[1.0,\"#f0f921\"]],\"type\":\"contour\"}],\"contourcarpet\":[{\"colorbar\":{\"outlinewidth\":0,\"ticks\":\"\"},\"type\":\"contourcarpet\"}],\"heatmap\":[{\"colorbar\":{\"outlinewidth\":0,\"ticks\":\"\"},\"colorscale\":[[0.0,\"#0d0887\"],[0.1111111111111111,\"#46039f\"],[0.2222222222222222,\"#7201a8\"],[0.3333333333333333,\"#9c179e\"],[0.4444444444444444,\"#bd3786\"],[0.5555555555555556,\"#d8576b\"],[0.6666666666666666,\"#ed7953\"],[0.7777777777777778,\"#fb9f3a\"],[0.8888888888888888,\"#fdca26\"],[1.0,\"#f0f921\"]],\"type\":\"heatmap\"}],\"heatmapgl\":[{\"colorbar\":{\"outlinewidth\":0,\"ticks\":\"\"},\"colorscale\":[[0.0,\"#0d0887\"],[0.1111111111111111,\"#46039f\"],[0.2222222222222222,\"#7201a8\"],[0.3333333333333333,\"#9c179e\"],[0.4444444444444444,\"#bd3786\"],[0.5555555555555556,\"#d8576b\"],[0.6666666666666666,\"#ed7953\"],[0.7777777777777778,\"#fb9f3a\"],[0.8888888888888888,\"#fdca26\"],[1.0,\"#f0f921\"]],\"type\":\"heatmapgl\"}],\"histogram\":[{\"marker\":{\"pattern\":{\"fillmode\":\"overlay\",\"size\":10,\"solidity\":0.2}},\"type\":\"histogram\"}],\"histogram2d\":[{\"colorbar\":{\"outlinewidth\":0,\"ticks\":\"\"},\"colorscale\":[[0.0,\"#0d0887\"],[0.1111111111111111,\"#46039f\"],[0.2222222222222222,\"#7201a8\"],[0.3333333333333333,\"#9c179e\"],[0.4444444444444444,\"#bd3786\"],[0.5555555555555556,\"#d8576b\"],[0.6666666666666666,\"#ed7953\"],[0.7777777777777778,\"#fb9f3a\"],[0.8888888888888888,\"#fdca26\"],[1.0,\"#f0f921\"]],\"type\":\"histogram2d\"}],\"histogram2dcontour\":[{\"colorbar\":{\"outlinewidth\":0,\"ticks\":\"\"},\"colorscale\":[[0.0,\"#0d0887\"],[0.1111111111111111,\"#46039f\"],[0.2222222222222222,\"#7201a8\"],[0.3333333333333333,\"#9c179e\"],[0.4444444444444444,\"#bd3786\"],[0.5555555555555556,\"#d8576b\"],[0.6666666666666666,\"#ed7953\"],[0.7777777777777778,\"#fb9f3a\"],[0.8888888888888888,\"#fdca26\"],[1.0,\"#f0f921\"]],\"type\":\"histogram2dcontour\"}],\"mesh3d\":[{\"colorbar\":{\"outlinewidth\":0,\"ticks\":\"\"},\"type\":\"mesh3d\"}],\"parcoords\":[{\"line\":{\"colorbar\":{\"outlinewidth\":0,\"ticks\":\"\"}},\"type\":\"parcoords\"}],\"pie\":[{\"automargin\":true,\"type\":\"pie\"}],\"scatter\":[{\"marker\":{\"colorbar\":{\"outlinewidth\":0,\"ticks\":\"\"}},\"type\":\"scatter\"}],\"scatter3d\":[{\"line\":{\"colorbar\":{\"outlinewidth\":0,\"ticks\":\"\"}},\"marker\":{\"colorbar\":{\"outlinewidth\":0,\"ticks\":\"\"}},\"type\":\"scatter3d\"}],\"scattercarpet\":[{\"marker\":{\"colorbar\":{\"outlinewidth\":0,\"ticks\":\"\"}},\"type\":\"scattercarpet\"}],\"scattergeo\":[{\"marker\":{\"colorbar\":{\"outlinewidth\":0,\"ticks\":\"\"}},\"type\":\"scattergeo\"}],\"scattergl\":[{\"marker\":{\"colorbar\":{\"outlinewidth\":0,\"ticks\":\"\"}},\"type\":\"scattergl\"}],\"scattermapbox\":[{\"marker\":{\"colorbar\":{\"outlinewidth\":0,\"ticks\":\"\"}},\"type\":\"scattermapbox\"}],\"scatterpolar\":[{\"marker\":{\"colorbar\":{\"outlinewidth\":0,\"ticks\":\"\"}},\"type\":\"scatterpolar\"}],\"scatterpolargl\":[{\"marker\":{\"colorbar\":{\"outlinewidth\":0,\"ticks\":\"\"}},\"type\":\"scatterpolargl\"}],\"scatterternary\":[{\"marker\":{\"colorbar\":{\"outlinewidth\":0,\"ticks\":\"\"}},\"type\":\"scatterternary\"}],\"surface\":[{\"colorbar\":{\"outlinewidth\":0,\"ticks\":\"\"},\"colorscale\":[[0.0,\"#0d0887\"],[0.1111111111111111,\"#46039f\"],[0.2222222222222222,\"#7201a8\"],[0.3333333333333333,\"#9c179e\"],[0.4444444444444444,\"#bd3786\"],[0.5555555555555556,\"#d8576b\"],[0.6666666666666666,\"#ed7953\"],[0.7777777777777778,\"#fb9f3a\"],[0.8888888888888888,\"#fdca26\"],[1.0,\"#f0f921\"]],\"type\":\"surface\"}],\"table\":[{\"cells\":{\"fill\":{\"color\":\"#EBF0F8\"},\"line\":{\"color\":\"white\"}},\"header\":{\"fill\":{\"color\":\"#C8D4E3\"},\"line\":{\"color\":\"white\"}},\"type\":\"table\"}]},\"layout\":{\"annotationdefaults\":{\"arrowcolor\":\"#2a3f5f\",\"arrowhead\":0,\"arrowwidth\":1},\"autotypenumbers\":\"strict\",\"coloraxis\":{\"colorbar\":{\"outlinewidth\":0,\"ticks\":\"\"}},\"colorscale\":{\"diverging\":[[0,\"#8e0152\"],[0.1,\"#c51b7d\"],[0.2,\"#de77ae\"],[0.3,\"#f1b6da\"],[0.4,\"#fde0ef\"],[0.5,\"#f7f7f7\"],[0.6,\"#e6f5d0\"],[0.7,\"#b8e186\"],[0.8,\"#7fbc41\"],[0.9,\"#4d9221\"],[1,\"#276419\"]],\"sequential\":[[0.0,\"#0d0887\"],[0.1111111111111111,\"#46039f\"],[0.2222222222222222,\"#7201a8\"],[0.3333333333333333,\"#9c179e\"],[0.4444444444444444,\"#bd3786\"],[0.5555555555555556,\"#d8576b\"],[0.6666666666666666,\"#ed7953\"],[0.7777777777777778,\"#fb9f3a\"],[0.8888888888888888,\"#fdca26\"],[1.0,\"#f0f921\"]],\"sequentialminus\":[[0.0,\"#0d0887\"],[0.1111111111111111,\"#46039f\"],[0.2222222222222222,\"#7201a8\"],[0.3333333333333333,\"#9c179e\"],[0.4444444444444444,\"#bd3786\"],[0.5555555555555556,\"#d8576b\"],[0.6666666666666666,\"#ed7953\"],[0.7777777777777778,\"#fb9f3a\"],[0.8888888888888888,\"#fdca26\"],[1.0,\"#f0f921\"]]},\"colorway\":[\"#636efa\",\"#EF553B\",\"#00cc96\",\"#ab63fa\",\"#FFA15A\",\"#19d3f3\",\"#FF6692\",\"#B6E880\",\"#FF97FF\",\"#FECB52\"],\"font\":{\"color\":\"#2a3f5f\"},\"geo\":{\"bgcolor\":\"white\",\"lakecolor\":\"white\",\"landcolor\":\"#E5ECF6\",\"showlakes\":true,\"showland\":true,\"subunitcolor\":\"white\"},\"hoverlabel\":{\"align\":\"left\"},\"hovermode\":\"closest\",\"mapbox\":{\"style\":\"light\"},\"paper_bgcolor\":\"white\",\"plot_bgcolor\":\"#E5ECF6\",\"polar\":{\"angularaxis\":{\"gridcolor\":\"white\",\"linecolor\":\"white\",\"ticks\":\"\"},\"bgcolor\":\"#E5ECF6\",\"radialaxis\":{\"gridcolor\":\"white\",\"linecolor\":\"white\",\"ticks\":\"\"}},\"scene\":{\"xaxis\":{\"backgroundcolor\":\"#E5ECF6\",\"gridcolor\":\"white\",\"gridwidth\":2,\"linecolor\":\"white\",\"showbackground\":true,\"ticks\":\"\",\"zerolinecolor\":\"white\"},\"yaxis\":{\"backgroundcolor\":\"#E5ECF6\",\"gridcolor\":\"white\",\"gridwidth\":2,\"linecolor\":\"white\",\"showbackground\":true,\"ticks\":\"\",\"zerolinecolor\":\"white\"},\"zaxis\":{\"backgroundcolor\":\"#E5ECF6\",\"gridcolor\":\"white\",\"gridwidth\":2,\"linecolor\":\"white\",\"showbackground\":true,\"ticks\":\"\",\"zerolinecolor\":\"white\"}},\"shapedefaults\":{\"line\":{\"color\":\"#2a3f5f\"}},\"ternary\":{\"aaxis\":{\"gridcolor\":\"white\",\"linecolor\":\"white\",\"ticks\":\"\"},\"baxis\":{\"gridcolor\":\"white\",\"linecolor\":\"white\",\"ticks\":\"\"},\"bgcolor\":\"#E5ECF6\",\"caxis\":{\"gridcolor\":\"white\",\"linecolor\":\"white\",\"ticks\":\"\"}},\"title\":{\"x\":0.05},\"xaxis\":{\"automargin\":true,\"gridcolor\":\"white\",\"linecolor\":\"white\",\"ticks\":\"\",\"title\":{\"standoff\":15},\"zerolinecolor\":\"white\",\"zerolinewidth\":2},\"yaxis\":{\"automargin\":true,\"gridcolor\":\"white\",\"linecolor\":\"white\",\"ticks\":\"\",\"title\":{\"standoff\":15},\"zerolinecolor\":\"white\",\"zerolinewidth\":2}}},\"xaxis\":{\"anchor\":\"y\",\"domain\":[0.0,1.0],\"title\":{\"text\":\"x\"}},\"yaxis\":{\"anchor\":\"x\",\"domain\":[0.0,1.0],\"title\":{\"text\":\"timestamp\"}},\"legend\":{\"tracegroupgap\":0},\"margin\":{\"t\":60}},                        {\"responsive\": true}                    ).then(function(){\n",
       "                            \n",
       "var gd = document.getElementById('3fbdbf13-1e5e-4c0f-ba6b-988b42681b5d');\n",
       "var x = new MutationObserver(function (mutations, observer) {{\n",
       "        var display = window.getComputedStyle(gd).display;\n",
       "        if (!display || display === 'none') {{\n",
       "            console.log([gd, 'removed!']);\n",
       "            Plotly.purge(gd);\n",
       "            observer.disconnect();\n",
       "        }}\n",
       "}});\n",
       "\n",
       "// Listen for the removal of the full notebook cells\n",
       "var notebookContainer = gd.closest('#notebook-container');\n",
       "if (notebookContainer) {{\n",
       "    x.observe(notebookContainer, {childList: true});\n",
       "}}\n",
       "\n",
       "// Listen for the clearing of the current output cell\n",
       "var outputEl = gd.closest('.output');\n",
       "if (outputEl) {{\n",
       "    x.observe(outputEl, {childList: true});\n",
       "}}\n",
       "\n",
       "                        })                };                });            </script>        </div>"
      ]
     },
     "metadata": {},
     "output_type": "display_data"
    }
   ],
   "source": [
    "sp500_returns[in_out_list]\n",
    "fig=px.scatter(sp500_returns[stock],sp500_returns[index_output])\n",
    "fig.show()"
   ]
  },
  {
   "cell_type": "code",
   "execution_count": null,
   "id": "e9a45c48-383c-42ea-9e05-10edec5a3a50",
   "metadata": {},
   "outputs": [],
   "source": []
  },
  {
   "cell_type": "code",
   "execution_count": null,
   "id": "2e83c714-6c41-4e09-9489-71127f2c050c",
   "metadata": {},
   "outputs": [],
   "source": []
  }
 ],
 "metadata": {
  "kernelspec": {
   "display_name": "Python 3 (ipykernel)",
   "language": "python",
   "name": "python3"
  },
  "language_info": {
   "codemirror_mode": {
    "name": "ipython",
    "version": 3
   },
   "file_extension": ".py",
   "mimetype": "text/x-python",
   "name": "python",
   "nbconvert_exporter": "python",
   "pygments_lexer": "ipython3",
   "version": "3.7.13"
  }
 },
 "nbformat": 4,
 "nbformat_minor": 5
}
